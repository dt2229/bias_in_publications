{
  "cells": [
    {
      "cell_type": "code",
      "execution_count": 1,
      "metadata": {
        "id": "cGeH5ODTdGdQ"
      },
      "outputs": [],
      "source": [
        "from nltk.tokenize import sent_tokenize, word_tokenize\n",
        "import warnings\n",
        "warnings.filterwarnings(action = 'ignore')\n",
        "import gensim\n",
        "from gensim.models import Word2Vec\n",
        "import numpy as np"
      ]
    },
    {
      "cell_type": "code",
      "source": [
        "!pip install --upgrade gensim"
      ],
      "metadata": {
        "colab": {
          "base_uri": "https://localhost:8080/",
          "height": 347
        },
        "id": "w0SWG0VULWUa",
        "outputId": "3b2dc32b-5d07-4f6c-f0c8-1d489cdb792a"
      },
      "execution_count": 2,
      "outputs": [
        {
          "output_type": "stream",
          "name": "stdout",
          "text": [
            "Looking in indexes: https://pypi.org/simple, https://us-python.pkg.dev/colab-wheels/public/simple/\n",
            "Requirement already satisfied: gensim in /usr/local/lib/python3.8/dist-packages (3.6.0)\n",
            "Collecting gensim\n",
            "  Downloading gensim-4.2.0-cp38-cp38-manylinux_2_12_x86_64.manylinux2010_x86_64.whl (24.1 MB)\n",
            "\u001b[K     |████████████████████████████████| 24.1 MB 52 kB/s \n",
            "\u001b[?25hRequirement already satisfied: smart-open>=1.8.1 in /usr/local/lib/python3.8/dist-packages (from gensim) (5.2.1)\n",
            "Requirement already satisfied: numpy>=1.17.0 in /usr/local/lib/python3.8/dist-packages (from gensim) (1.21.6)\n",
            "Requirement already satisfied: scipy>=0.18.1 in /usr/local/lib/python3.8/dist-packages (from gensim) (1.7.3)\n",
            "Installing collected packages: gensim\n",
            "  Attempting uninstall: gensim\n",
            "    Found existing installation: gensim 3.6.0\n",
            "    Uninstalling gensim-3.6.0:\n",
            "      Successfully uninstalled gensim-3.6.0\n",
            "Successfully installed gensim-4.2.0\n"
          ]
        },
        {
          "output_type": "display_data",
          "data": {
            "application/vnd.colab-display-data+json": {
              "pip_warning": {
                "packages": [
                  "gensim"
                ]
              }
            }
          },
          "metadata": {}
        }
      ]
    },
    {
      "cell_type": "code",
      "execution_count": 4,
      "metadata": {
        "colab": {
          "base_uri": "https://localhost:8080/"
        },
        "id": "HDUjB_TKdKyf",
        "outputId": "907bfea9-3225-4e2a-e333-31ee92200305"
      },
      "outputs": [
        {
          "output_type": "stream",
          "name": "stderr",
          "text": [
            "[nltk_data] Downloading package punkt to /root/nltk_data...\n",
            "[nltk_data]   Package punkt is already up-to-date!\n"
          ]
        },
        {
          "output_type": "execute_result",
          "data": {
            "text/plain": [
              "True"
            ]
          },
          "metadata": {},
          "execution_count": 4
        }
      ],
      "source": [
        "import nltk\n",
        "nltk.download('punkt')"
      ]
    },
    {
      "cell_type": "code",
      "execution_count": 7,
      "metadata": {
        "id": "f4IJuunOdK1B"
      },
      "outputs": [],
      "source": [
        "# CNN_sample = open(\"cnn.txt\")\n",
        "Fox_sample = open(\"fox.txt\")\n",
        "# CNN = CNN_sample.read()\n",
        "Fox = Fox_sample.read()"
      ]
    },
    {
      "cell_type": "code",
      "execution_count": 8,
      "metadata": {
        "id": "EiQz8tSddK4o"
      },
      "outputs": [],
      "source": [
        "n = CNN.replace(\"\\n\", \" \")\n",
        "CNN_data = []\n",
        "# iterate through each sentence in the file\n",
        "for i in sent_tokenize(n):\n",
        "    temp = []\n",
        "    for j in word_tokenize(i):\n",
        "        temp.append(j.lower())\n",
        "    CNN_data.append(temp)\n",
        "f = Fox.replace(\"\\n\", \" \")\n",
        "Fox_data = []\n",
        "# iterate through each sentence in the file\n",
        "for i in sent_tokenize(f):\n",
        "    temp = []\n",
        "    for j in word_tokenize(i):\n",
        "        temp.append(j.lower())\n",
        "    Fox_data.append(temp)"
      ]
    },
    {
      "cell_type": "code",
      "execution_count": 147,
      "metadata": {
        "id": "o8pvj5t7dK7N"
      },
      "outputs": [],
      "source": [
        "model_cbow_Fox = Word2Vec(Fox_data, sg=1)\n",
        "model_cbow_CNN = Word2Vec(CNN_data, sg=1)"
      ]
    },
    {
      "cell_type": "code",
      "source": [
        "# followed this: https://chanind.github.io/nlp/2021/06/10/word2vec-gender-bias.html\n",
        "gender_pairs = [\n",
        "    (\"she\", \"he\"),\n",
        "    (\"her\", \"his\"),\n",
        "    (\"woman\", \"man\"),\n",
        "    (\"herself\", \"himself\"),\n",
        "    (\"daughter\", \"son\"),\n",
        "    (\"mother\", \"father\"),\n",
        "    (\"girl\", \"boy\"),\n",
        "]\n",
        "male_words = [\"he\",\"his\",\"man\",\"himself\",\"son\",\"father\",\"boy\"]\n",
        "female_words = [\"she\",\"her\",\"woman\",\"herself\",\"daughter\",\"mother\",\"girl\"]\n",
        "\n",
        "# gender_neutral_words = [\n",
        "#     \"is\",\n",
        "#     \"who\",\n",
        "#     \"what\",\n",
        "#     \"where\",\n",
        "#     \"the\",\n",
        "#     \"it\",\n",
        "# ]\n",
        "gender_vectors = [\n",
        "  model_cbow_Fox.wv[pair[0]] - model_cbow_Fox.wv[pair[1]]\n",
        "  for pair in gender_pairs\n",
        "]\n",
        "gender_vector = np.mean(gender_vectors, axis=0)"
      ],
      "metadata": {
        "id": "4uHg68AuuFEn"
      },
      "execution_count": 202,
      "outputs": []
    },
    {
      "cell_type": "code",
      "source": [
        "male_projections = [np.dot(model_cbow_Fox.wv[word], gender_vector) for word in male_words]\n",
        "female_projections = [np.dot(model_cbow_Fox.wv[word], gender_vector) for word in female_words]\n",
        "\n",
        "mean_male_projection = np.mean(male_projections)\n",
        "mean_female_projection = np.mean(female_projections)"
      ],
      "metadata": {
        "id": "BPPTxvZcuFLG"
      },
      "execution_count": 203,
      "outputs": []
    },
    {
      "cell_type": "code",
      "source": [
        "test_word = \"politician\"\n",
        "test_word_projection = np.dot(model_cbow_Fox.wv[test_word], gender_vector)\n",
        "\n",
        "mean_projection = (mean_male_projection + mean_female_projection) / 2\n",
        "# scale the score so > 0 means female bias, < 0 means male bias\n",
        "test_word_score = 2 * (test_word_projection - mean_projection) / (mean_female_projection - mean_male_projection)"
      ],
      "metadata": {
        "id": "B2uq_pSpu_ns"
      },
      "execution_count": 217,
      "outputs": []
    },
    {
      "cell_type": "code",
      "source": [
        "test_word_score"
      ],
      "metadata": {
        "colab": {
          "base_uri": "https://localhost:8080/",
          "height": 166
        },
        "id": "_VOVkXIWzXgu",
        "outputId": "10724ae3-b274-413b-f7d7-c4bca17a722e"
      },
      "execution_count": 1,
      "outputs": [
        {
          "output_type": "error",
          "ename": "NameError",
          "evalue": "ignored",
          "traceback": [
            "\u001b[0;31m---------------------------------------------------------------------------\u001b[0m",
            "\u001b[0;31mNameError\u001b[0m                                 Traceback (most recent call last)",
            "\u001b[0;32m<ipython-input-1-ac8283c4df80>\u001b[0m in \u001b[0;36m<module>\u001b[0;34m\u001b[0m\n\u001b[0;32m----> 1\u001b[0;31m \u001b[0mtest_word_score\u001b[0m\u001b[0;34m\u001b[0m\u001b[0;34m\u001b[0m\u001b[0m\n\u001b[0m",
            "\u001b[0;31mNameError\u001b[0m: name 'test_word_score' is not defined"
          ]
        }
      ]
    },
    {
      "cell_type": "markdown",
      "source": [
        "#TODO: PLOT WORD SCORES"
      ],
      "metadata": {
        "id": "hI_PpF6FWvtg"
      }
    },
    {
      "cell_type": "code",
      "source": [
        "import matplotlib.pyplot as plt\n",
        "import pandas as pd\n",
        "X = model_cbow_Fox[model_cbow_Fox.wv.key_to_index]\n",
        "df = pd.DataFrame(X)\n",
        "df.head()"
      ],
      "metadata": {
        "colab": {
          "base_uri": "https://localhost:8080/",
          "height": 235
        },
        "id": "r6oOnqFzIAgL",
        "outputId": "d206e879-99d2-4cf2-de58-16abe79ba27e"
      },
      "execution_count": 214,
      "outputs": [
        {
          "output_type": "error",
          "ename": "TypeError",
          "evalue": "ignored",
          "traceback": [
            "\u001b[0;31m---------------------------------------------------------------------------\u001b[0m",
            "\u001b[0;31mTypeError\u001b[0m                                 Traceback (most recent call last)",
            "\u001b[0;32m<ipython-input-214-8e7176fbf888>\u001b[0m in \u001b[0;36m<module>\u001b[0;34m\u001b[0m\n\u001b[1;32m      1\u001b[0m \u001b[0;32mimport\u001b[0m \u001b[0mmatplotlib\u001b[0m\u001b[0;34m.\u001b[0m\u001b[0mpyplot\u001b[0m \u001b[0;32mas\u001b[0m \u001b[0mplt\u001b[0m\u001b[0;34m\u001b[0m\u001b[0;34m\u001b[0m\u001b[0m\n\u001b[1;32m      2\u001b[0m \u001b[0;32mimport\u001b[0m \u001b[0mpandas\u001b[0m \u001b[0;32mas\u001b[0m \u001b[0mpd\u001b[0m\u001b[0;34m\u001b[0m\u001b[0;34m\u001b[0m\u001b[0m\n\u001b[0;32m----> 3\u001b[0;31m \u001b[0mX\u001b[0m \u001b[0;34m=\u001b[0m \u001b[0mmodel_cbow_Fox\u001b[0m\u001b[0;34m[\u001b[0m\u001b[0mmodel_cbow_Fox\u001b[0m\u001b[0;34m.\u001b[0m\u001b[0mwv\u001b[0m\u001b[0;34m.\u001b[0m\u001b[0mkey_to_index\u001b[0m\u001b[0;34m]\u001b[0m\u001b[0;34m\u001b[0m\u001b[0;34m\u001b[0m\u001b[0m\n\u001b[0m\u001b[1;32m      4\u001b[0m \u001b[0mdf\u001b[0m \u001b[0;34m=\u001b[0m \u001b[0mpd\u001b[0m\u001b[0;34m.\u001b[0m\u001b[0mDataFrame\u001b[0m\u001b[0;34m(\u001b[0m\u001b[0mX\u001b[0m\u001b[0;34m)\u001b[0m\u001b[0;34m\u001b[0m\u001b[0;34m\u001b[0m\u001b[0m\n\u001b[1;32m      5\u001b[0m \u001b[0mdf\u001b[0m\u001b[0;34m.\u001b[0m\u001b[0mhead\u001b[0m\u001b[0;34m(\u001b[0m\u001b[0;34m)\u001b[0m\u001b[0;34m\u001b[0m\u001b[0;34m\u001b[0m\u001b[0m\n",
            "\u001b[0;31mTypeError\u001b[0m: 'Word2Vec' object is not subscriptable"
          ]
        }
      ]
    },
    {
      "cell_type": "code",
      "source": [
        "X_corr = df.corr()\n",
        "values, vectors = np.linalg.eig(X_corr)\n",
        "\n",
        "args = (-values).argsort()\n",
        "values = vectors[args]\n",
        "vectors = vectors[:, args]\n",
        "\n",
        "new_vectors = vectors[:,:2]\n",
        "neww_X = np.dot(X,new_vectors)"
      ],
      "metadata": {
        "id": "IpyW4GztUXgR"
      },
      "execution_count": 80,
      "outputs": []
    },
    {
      "cell_type": "code",
      "source": [
        "plt.scatter(neww_X[:,0], neww_X[:,1])\n",
        "vocab = list(model_cbow_Fox.wv.vocab)\n",
        "for i, word in enumerate(vocab):\n",
        "  plt.annotate(word, xy=(neww_X[i,0],neww_X[i,1]))"
      ],
      "metadata": {
        "colab": {
          "base_uri": "https://localhost:8080/",
          "height": 265
        },
        "id": "7r_oBqEeU1Cw",
        "outputId": "2d9e27b3-a4a2-4237-d6fa-2e8cc10c9999"
      },
      "execution_count": 83,
      "outputs": [
        {
          "output_type": "display_data",
          "data": {
            "text/plain": [
              "<Figure size 432x288 with 1 Axes>"
            ],
            "image/png": "[encoded data removed]"
          },
          "metadata": {
            "needs_background": "light"
          }
        }
      ]
    },
    {
      "cell_type": "code",
      "source": [
        "# analogy test\n",
        "model_cbow_Fox.wv.most_similar(positive=[\"woman\",\"chef\"], negative=[\"man\"],topn=5)"
      ],
      "metadata": {
        "colab": {
          "base_uri": "https://localhost:8080/"
        },
        "id": "5jKYLFxcVA26",
        "outputId": "dee008a6-bd5d-41d0-a3bf-4991c782a7d7"
      },
      "execution_count": 167,
      "outputs": [
        {
          "output_type": "execute_result",
          "data": {
            "text/plain": [
              "[('boyardee', 0.6337319016456604),\n",
              " ('authority', 0.6059855818748474),\n",
              " ('reduction', 0.6022852659225464),\n",
              " ('magic', 0.601881206035614),\n",
              " ('postseason', 0.5983280539512634)]"
            ]
          },
          "metadata": {},
          "execution_count": 167
        }
      ]
    },
    {
      "cell_type": "code",
      "source": [
        "# pretty print function\n",
        "def pp(obj):\n",
        "    print(pd.DataFrame(obj))\n",
        "    \n",
        "def analogy(worda, wordb, wordc):\n",
        "    result = model_cbow_CNN.wv.most_similar(negative=[worda], \n",
        "                                positive=[wordb, wordc])\n",
        "    return result[0][0]\n",
        "\n",
        "gendered_stuff = ['president', 'biden', 'crypto' ,'boss', 'intelligence', 'government', 'trump']\n",
        "occupations = [analogy('man', 'woman', gender) for gender in gendered_stuff]\n",
        "pp(zip(gendered_stuff, occupations))"
      ],
      "metadata": {
        "colab": {
          "base_uri": "https://localhost:8080/"
        },
        "id": "l8D8BwBAZGKL",
        "outputId": "0554c879-b857-4d38-f5b5-80c7a2907e98"
      },
      "execution_count": 212,
      "outputs": [
        {
          "output_type": "stream",
          "name": "stdout",
          "text": [
            "              0                1\n",
            "0     president             vice\n",
            "1         biden  longest-serving\n",
            "2        crypto          founder\n",
            "3          boss          succeed\n",
            "4  intelligence          broadly\n",
            "5    government          broadly\n",
            "6         trump          sanders\n"
          ]
        }
      ]
    },
    {
      "cell_type": "code",
      "source": [
        "from sklearn.decomposition import PCA\n",
        "\n",
        "def plot_data(orig_data, labels):\n",
        "    pca = PCA(n_components=2)\n",
        "    data = pca.fit_transform(orig_data)\n",
        "    plt.figure(figsize=(7, 5), dpi=100)\n",
        "    plt.plot(data[:,0], data[:,1], '.')\n",
        "    for i in range(len(data)):\n",
        "        plt.annotate(labels[i], xy = data[i])\n",
        "    for i in range(len(data)//2):\n",
        "        plt.annotate(\"\",\n",
        "                xy=data[i],\n",
        "                xytext=data[i+len(data)//2],\n",
        "                arrowprops=dict(arrowstyle=\"->\",\n",
        "                                connectionstyle=\"arc3\")\n",
        "        )\n",
        "       \n",
        "labels = gendered_stuff + occupations\n",
        "data = [model_cbow_CNN.wv[w] for w in labels]\n",
        "plot_data(data, labels)"
      ],
      "metadata": {
        "colab": {
          "base_uri": "https://localhost:8080/",
          "height": 438
        },
        "id": "d9XW3GKOWf-J",
        "outputId": "7943d500-da0c-40f1-b575-314a5a60033f"
      },
      "execution_count": 213,
      "outputs": [
        {
          "output_type": "display_data",
          "data": {
            "text/plain": [
              "<Figure size 700x500 with 1 Axes>"
            ],
            "image/png": "[encoded data removed]"
          },
          "metadata": {
            "needs_background": "light"
          }
        }
      ]
    },
    {
      "cell_type": "code",
      "source": [],
      "metadata": {
        "id": "VHoQK9VFagK2"
      },
      "execution_count": null,
      "outputs": []
    }
  ],
  "metadata": {
    "colab": {
      "provenance": []
    },
    "kernelspec": {
      "display_name": "Python 3",
      "name": "python3"
    },
    "language_info": {
      "name": "python"
    }
  },
  "nbformat": 4,
  "nbformat_minor": 0
}