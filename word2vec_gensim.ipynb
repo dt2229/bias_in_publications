{
  "nbformat": 4,
  "nbformat_minor": 0,
  "metadata": {
    "colab": {
      "provenance": []
    },
    "kernelspec": {
      "name": "python3",
      "display_name": "Python 3"
    },
    "language_info": {
      "name": "python"
    }
  },
  "cells": [
    {
      "cell_type": "code",
      "execution_count": 6,
      "metadata": {
        "id": "q3TpyRdtVQD2"
      },
      "outputs": [],
      "source": [
        "from nltk.tokenize import sent_tokenize, word_tokenize\n",
        "import warnings\n",
        "warnings.filterwarnings(action = 'ignore')\n",
        "import gensim\n",
        "from gensim.models import Word2Vec"
      ]
    },
    {
      "cell_type": "code",
      "source": [
        "import nltk\n",
        "nltk.download('punkt')"
      ],
      "metadata": {
        "colab": {
          "base_uri": "https://localhost:8080/"
        },
        "id": "LpgxqExklbkI",
        "outputId": "a3120b77-d3b5-47e8-b3f0-5a177e598509"
      },
      "execution_count": 8,
      "outputs": [
        {
          "output_type": "stream",
          "name": "stderr",
          "text": [
            "[nltk_data] Downloading package punkt to /root/nltk_data...\n",
            "[nltk_data]   Unzipping tokenizers/punkt.zip.\n"
          ]
        },
        {
          "output_type": "execute_result",
          "data": {
            "text/plain": [
              "True"
            ]
          },
          "metadata": {},
          "execution_count": 8
        }
      ]
    },
    {
      "cell_type": "code",
      "source": [
        "sample = open(\"alice.txt\")\n",
        "s = sample.read()"
      ],
      "metadata": {
        "id": "SI-Ob518asgi"
      },
      "execution_count": 3,
      "outputs": []
    },
    {
      "cell_type": "code",
      "source": [
        "# Replaces escape character with space\n",
        "f = s.replace(\"\\n\", \" \")\n",
        "data = []\n",
        "# iterate through each sentence in the file\n",
        "for i in sent_tokenize(f):\n",
        "\ttemp = []\n",
        "\t# tokenize the sentence into words\n",
        "\tfor j in word_tokenize(i):\n",
        "\t\ttemp.append(j.lower())\n",
        "\tdata.append(temp)"
      ],
      "metadata": {
        "id": "IL3ZEbiZaslX"
      },
      "execution_count": 9,
      "outputs": []
    },
    {
      "cell_type": "code",
      "source": [
        "# Create CBOW model\n",
        "model_cbow = Word2Vec(data, min_count = 1, size = 100, window = 5)\n",
        "\n",
        "# Print results\n",
        "print(\"Cosine similarity between 'alice' \" +\n",
        "\t\t\t\"and 'wonderland' - CBOW : \",\n",
        "\tmodel_cbow.wv.similarity('alice', 'wonderland'))\n",
        "\t\n",
        "print(\"Cosine similarity between 'alice' \" +\n",
        "\t\t\t\t\"and 'machines' - CBOW : \",\n",
        "\tmodel_cbow.wv.similarity('alice', 'machines'))"
      ],
      "metadata": {
        "colab": {
          "base_uri": "https://localhost:8080/"
        },
        "id": "eR1jxCsjasnv",
        "outputId": "61059231-c0c3-400b-b527-0563d59282f4"
      },
      "execution_count": 14,
      "outputs": [
        {
          "output_type": "stream",
          "name": "stderr",
          "text": [
            "WARNING:gensim.models.base_any2vec:under 10 jobs per worker: consider setting a smaller `batch_words' for smoother alpha decay\n"
          ]
        },
        {
          "output_type": "stream",
          "name": "stdout",
          "text": [
            "Cosine similarity between 'alice' and 'wonderland' - CBOW :  0.9877182\n",
            "Cosine similarity between 'alice' and 'machines' - CBOW :  0.9135896\n"
          ]
        }
      ]
    },
    {
      "cell_type": "code",
      "source": [
        "# Create Skip Gram model\n",
        "model_skip = gensim.models.Word2Vec(data, min_count = 1, size = 100, window = 5, sg = 1)\n",
        "\n",
        "# Print results\n",
        "print(\"Cosine similarity between 'alice' \" +\n",
        "\t\t\"and 'wonderland' - Skip Gram : \",\n",
        "\tmodel_skip.wv.similarity('alice', 'wonderland'))\n",
        "\t\n",
        "print(\"Cosine similarity between 'alice' \" +\n",
        "\t\t\t\"and 'machines' - Skip Gram : \",\n",
        "\tmodel_skip.wv.similarity('alice', 'machines'))\n"
      ],
      "metadata": {
        "colab": {
          "base_uri": "https://localhost:8080/"
        },
        "id": "XIyvHYR3aiMN",
        "outputId": "1ecfa25f-7c8e-4b47-ded6-da71ae1b0ba6"
      },
      "execution_count": 15,
      "outputs": [
        {
          "output_type": "stream",
          "name": "stderr",
          "text": [
            "WARNING:gensim.models.base_any2vec:under 10 jobs per worker: consider setting a smaller `batch_words' for smoother alpha decay\n"
          ]
        },
        {
          "output_type": "stream",
          "name": "stdout",
          "text": [
            "Cosine similarity between 'alice' and 'wonderland' - Skip Gram :  0.6654965\n",
            "Cosine similarity between 'alice' and 'machines' - Skip Gram :  0.8499879\n"
          ]
        }
      ]
    }
  ]
}