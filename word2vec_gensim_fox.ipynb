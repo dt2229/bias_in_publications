{
  "nbformat": 4,
  "nbformat_minor": 0,
  "metadata": {
    "colab": {
      "provenance": []
    },
    "kernelspec": {
      "name": "python3",
      "display_name": "Python 3"
    },
    "language_info": {
      "name": "python"
    }
  },
  "cells": [
    {
      "cell_type": "code",
      "execution_count": 2,
      "metadata": {
        "id": "q3TpyRdtVQD2"
      },
      "outputs": [],
      "source": [
        "from nltk.tokenize import sent_tokenize, word_tokenize\n",
        "import warnings\n",
        "warnings.filterwarnings(action = 'ignore')\n",
        "import gensim\n",
        "from gensim.models import Word2Vec"
      ]
    },
    {
      "cell_type": "code",
      "source": [
        "import nltk\n",
        "nltk.download('punkt')"
      ],
      "metadata": {
        "colab": {
          "base_uri": "https://localhost:8080/"
        },
        "id": "LpgxqExklbkI",
        "outputId": "13a35650-3284-4e1d-c253-452c3507a827"
      },
      "execution_count": 3,
      "outputs": [
        {
          "output_type": "stream",
          "name": "stderr",
          "text": [
            "[nltk_data] Downloading package punkt to /root/nltk_data...\n",
            "[nltk_data]   Unzipping tokenizers/punkt.zip.\n"
          ]
        },
        {
          "output_type": "execute_result",
          "data": {
            "text/plain": [
              "True"
            ]
          },
          "metadata": {},
          "execution_count": 3
        }
      ]
    },
    {
      "cell_type": "code",
      "source": [
        "sample = open(\"fox.txt\")\n",
        "s = sample.read()"
      ],
      "metadata": {
        "id": "SI-Ob518asgi"
      },
      "execution_count": 4,
      "outputs": []
    },
    {
      "cell_type": "code",
      "source": [
        "# Replaces escape character with space\n",
        "f = s.replace(\"\\n\", \" \")\n",
        "data = []\n",
        "# iterate through each sentence in the file\n",
        "for i in sent_tokenize(f):\n",
        "\ttemp = []\n",
        "\t# tokenize the sentence into words\n",
        "\tfor j in word_tokenize(i):\n",
        "\t\ttemp.append(j.lower())\n",
        "\tdata.append(temp)"
      ],
      "metadata": {
        "id": "IL3ZEbiZaslX"
      },
      "execution_count": 6,
      "outputs": []
    },
    {
      "cell_type": "code",
      "source": [
        "# Create CBOW model\n",
        "model_cbow = Word2Vec(data, min_count = 1, size = 100, window = 5)\n",
        "\n",
        "# Print results\n",
        "print(\"Cosine similarity between 'democrat' \" +\n",
        "\t\t\t\"and 'republican' - CBOW : \",\n",
        "\tmodel_cbow.wv.similarity('democrat', 'republican'))\n",
        "\t\n",
        "print(\"Cosine similarity between 'Senate' \" +\n",
        "\t\t\t\t\"and 'woman' - CBOW : \",\n",
        "\tmodel_cbow.wv.similarity('senate', 'woman'))\n",
        "\n",
        "print(\"Cosine similarity between 'Senate' \" +\n",
        "\t\t\t\t\"and 'man' - CBOW : \",\n",
        "\tmodel_cbow.wv.similarity('senate', 'man'))\n",
        "\n",
        "print(\"Cosine similarity between 'romance' \" +\n",
        "\t\t\t\t\"and 'intoxication' - CBOW : \",\n",
        "\tmodel_cbow.wv.similarity('romance', 'intoxication'))\n",
        "\n",
        "print(\"Cosine similarity between 'russian' \" +\n",
        "\t\t\t\t\"and 'biden' - CBOW : \",\n",
        "\tmodel_cbow.wv.similarity('russian', 'biden'))"
      ],
      "metadata": {
        "colab": {
          "base_uri": "https://localhost:8080/"
        },
        "id": "eR1jxCsjasnv",
        "outputId": "91505412-cb00-4f98-a93a-c881f9cf4122"
      },
      "execution_count": 22,
      "outputs": [
        {
          "output_type": "stream",
          "name": "stderr",
          "text": [
            "WARNING:gensim.models.base_any2vec:under 10 jobs per worker: consider setting a smaller `batch_words' for smoother alpha decay\n"
          ]
        },
        {
          "output_type": "stream",
          "name": "stdout",
          "text": [
            "Cosine similarity between 'democrat' and 'republican' - CBOW :  0.99984986\n",
            "Cosine similarity between 'Senate' and 'woman' - CBOW :  0.99831766\n",
            "Cosine similarity between 'Senate' and 'man' - CBOW :  0.99972796\n",
            "Cosine similarity between 'romance' and 'intoxication' - CBOW :  0.8757159\n",
            "Cosine similarity between 'russian' and 'biden' - CBOW :  0.98771733\n"
          ]
        }
      ]
    },
    {
      "cell_type": "code",
      "source": [
        "# Create Skip Gram model\n",
        "model_skip = gensim.models.Word2Vec(data, min_count = 1, size = 100, window = 5, sg = 1)\n",
        "\n",
        "# Print results\n",
        "print(\"Cosine similarity between 'democrat' \" +\n",
        "\t\t\t\"and 'republican' - Skip : \",\n",
        "\tmodel_skip.wv.similarity('democrat', 'republican'))\n",
        "\t\n",
        "print(\"Cosine similarity between 'Senate' \" +\n",
        "\t\t\t\t\"and 'woman' - Skip : \",\n",
        "\tmodel_skip.wv.similarity('senate', 'woman'))\n",
        "\n",
        "print(\"Cosine similarity between 'Senate' \" +\n",
        "\t\t\t\t\"and 'man' - Skip : \",\n",
        "\tmodel_skip.wv.similarity('senate', 'man'))\n",
        "\n",
        "print(\"Cosine similarity between 'romance' \" +\n",
        "\t\t\t\t\"and 'intoxication' - Skip : \",\n",
        "\tmodel_skip.wv.similarity('romance', 'intoxication'))\n",
        "\n",
        "print(\"Cosine similarity between 'russian' \" +\n",
        "\t\t\t\t\"and 'biden' - Skip : \",\n",
        "\tmodel_skip.wv.similarity('russian', 'biden'))\n",
        "\n",
        "print(\"Cosine similarity between 'elbow' \" +\n",
        "\t\t\t\t\"and 'resistance' - Skip : \",\n",
        "\tmodel_skip.wv.similarity('elbow', 'resistance'))\n"
      ],
      "metadata": {
        "colab": {
          "base_uri": "https://localhost:8080/"
        },
        "id": "XIyvHYR3aiMN",
        "outputId": "5c354295-a89c-4fe7-c3c0-46878e69cf52"
      },
      "execution_count": 24,
      "outputs": [
        {
          "output_type": "stream",
          "name": "stderr",
          "text": [
            "WARNING:gensim.models.base_any2vec:under 10 jobs per worker: consider setting a smaller `batch_words' for smoother alpha decay\n"
          ]
        },
        {
          "output_type": "stream",
          "name": "stdout",
          "text": [
            "Cosine similarity between 'democrat' and 'republican' - Skip :  0.99923885\n",
            "Cosine similarity between 'Senate' and 'woman' - Skip :  0.9937955\n",
            "Cosine similarity between 'Senate' and 'man' - Skip :  0.9965229\n",
            "Cosine similarity between 'romance' and 'intoxication' - Skip :  0.9967016\n",
            "Cosine similarity between 'russian' and 'biden' - Skip :  0.98940676\n",
            "Cosine similarity between 'elbow' and 'resistance' - Skip :  0.991838\n"
          ]
        }
      ]
    },
    {
      "cell_type": "code",
      "source": [],
      "metadata": {
        "id": "-_OfXw7Te_A-"
      },
      "execution_count": null,
      "outputs": []
    }
  ]
}