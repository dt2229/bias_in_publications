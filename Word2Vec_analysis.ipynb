{
  "cells": [
    {
      "cell_type": "code",
      "execution_count": 23,
      "metadata": {
        "id": "cGeH5ODTdGdQ"
      },
      "outputs": [],
      "source": [
        "from nltk.tokenize import sent_tokenize, word_tokenize\n",
        "import warnings\n",
        "warnings.filterwarnings(action = 'ignore')\n",
        "import gensim\n",
        "from gensim.models import Word2Vec\n",
        "import numpy as np"
      ]
    },
    {
      "cell_type": "code",
      "source": [
        "!pip install --upgrade gensim"
      ],
      "metadata": {
        "id": "w0SWG0VULWUa"
      },
      "execution_count": null,
      "outputs": []
    },
    {
      "cell_type": "code",
      "execution_count": 2,
      "metadata": {
        "colab": {
          "base_uri": "https://localhost:8080/"
        },
        "id": "HDUjB_TKdKyf",
        "outputId": "f218ca83-2765-41d8-92e3-b85fbb16eba6"
      },
      "outputs": [
        {
          "output_type": "stream",
          "name": "stderr",
          "text": [
            "[nltk_data] Downloading package punkt to /root/nltk_data...\n",
            "[nltk_data]   Unzipping tokenizers/punkt.zip.\n"
          ]
        },
        {
          "output_type": "execute_result",
          "data": {
            "text/plain": [
              "True"
            ]
          },
          "metadata": {},
          "execution_count": 2
        }
      ],
      "source": [
        "import nltk\n",
        "nltk.download('punkt')"
      ]
    },
    {
      "cell_type": "code",
      "execution_count": 3,
      "metadata": {
        "id": "f4IJuunOdK1B"
      },
      "outputs": [],
      "source": [
        "NYT_sample = open(\"nyt.txt\")\n",
        "Fox_sample = open(\"fox.txt\")\n",
        "NYT = NYT_sample.read()\n",
        "Fox = Fox_sample.read()"
      ]
    },
    {
      "cell_type": "code",
      "execution_count": 4,
      "metadata": {
        "id": "EiQz8tSddK4o"
      },
      "outputs": [],
      "source": [
        "n = NYT.replace(\"\\n\", \" \")\n",
        "NYT_data = []\n",
        "# iterate through each sentence in the file\n",
        "for i in sent_tokenize(n):\n",
        "    temp = []\n",
        "    for j in word_tokenize(i):\n",
        "        temp.append(j.lower())\n",
        "    NYT_data.append(temp)\n",
        "f = Fox.replace(\"\\n\", \" \")\n",
        "Fox_data = []\n",
        "# iterate through each sentence in the file\n",
        "for i in sent_tokenize(f):\n",
        "    temp = []\n",
        "    for j in word_tokenize(i):\n",
        "        temp.append(j.lower())\n",
        "    Fox_data.append(temp)"
      ]
    },
    {
      "cell_type": "code",
      "execution_count": 8,
      "metadata": {
        "colab": {
          "base_uri": "https://localhost:8080/"
        },
        "id": "o8pvj5t7dK7N",
        "outputId": "f99323b8-6f67-4e11-e243-248795d16f69"
      },
      "outputs": [
        {
          "output_type": "stream",
          "name": "stderr",
          "text": [
            "WARNING:gensim.models.base_any2vec:under 10 jobs per worker: consider setting a smaller `batch_words' for smoother alpha decay\n"
          ]
        }
      ],
      "source": [
        "model_cbow_Fox = Word2Vec(Fox_data, min_count = 1, window = 5)\n",
        "model_cbow_NYT = Word2Vec(NYT_data, min_count = 1, window = 5)"
      ]
    },
    {
      "cell_type": "code",
      "source": [
        "# followed this: https://chanind.github.io/nlp/2021/06/10/word2vec-gender-bias.html\n",
        "gender_pairs = [\n",
        "    (\"she\", \"he\"),\n",
        "    (\"her\", \"his\"),\n",
        "    (\"woman\", \"man\"),\n",
        "    # (\"Mary\", \"John\"),\n",
        "    (\"herself\", \"himself\"),\n",
        "    (\"daughter\", \"son\"),\n",
        "    (\"mother\", \"father\"),\n",
        "    # (\"gal\", \"guy\"),\n",
        "    (\"girl\", \"boy\"),\n",
        "    (\"vagina\", \"penis\"),\n",
        "    # (\"feminine\", \"masculine\"),\n",
        "]\n",
        "male_words = [\"he\",\"his\",\"man\",\"himself\",\"son\",\"father\",\"boy\",\"penis\"]\n",
        "female_words = [\"she\",\"her\",\"woman\",\"herself\",\"daughter\",\"mother\",\"girl\",\"vagina\"]\n",
        "\n",
        "# gender_neutral_words = [\n",
        "#     \"is\",\n",
        "#     \"who\",\n",
        "#     \"what\",\n",
        "#     \"where\",\n",
        "#     \"the\",\n",
        "#     \"it\",\n",
        "# ]\n",
        "gender_vectors = [\n",
        "  model_cbow_Fox.wv[pair[0]] - model_cbow_Fox.wv[pair[1]]\n",
        "  for pair in gender_pairs\n",
        "]\n",
        "gender_vector = np.mean(gender_vectors, axis=0)"
      ],
      "metadata": {
        "id": "4uHg68AuuFEn"
      },
      "execution_count": 32,
      "outputs": []
    },
    {
      "cell_type": "code",
      "source": [
        "queen_gender_projection = np.dot(model_cbow_Fox.wv[\"queen\"], gender_vector)"
      ],
      "metadata": {
        "id": "hOcPkE38uFHP"
      },
      "execution_count": 42,
      "outputs": []
    },
    {
      "cell_type": "code",
      "source": [
        "male_projections = [np.dot(model_cbow_Fox.wv[word], gender_vector) for word in male_words]\n",
        "female_projections = [np.dot(model_cbow_Fox.wv[word], gender_vector) for word in female_words]\n",
        "\n",
        "mean_male_projection = np.mean(male_projections)\n",
        "mean_female_projection = np.mean(female_projections)"
      ],
      "metadata": {
        "id": "BPPTxvZcuFLG"
      },
      "execution_count": 34,
      "outputs": []
    },
    {
      "cell_type": "code",
      "source": [
        "test_word = \"daughter\"\n",
        "test_word_projection = np.dot(model_cbow_Fox.wv[test_word], gender_vector)\n",
        "\n",
        "mean_projection = (mean_male_projection + mean_female_projection) / 2\n",
        "# scale the score so > 0 means female bias, < 0 means male bias\n",
        "test_word_score = 2 * (test_word_projection - mean_projection) / (mean_female_projection - mean_male_projection)"
      ],
      "metadata": {
        "id": "B2uq_pSpu_ns"
      },
      "execution_count": 47,
      "outputs": []
    },
    {
      "cell_type": "code",
      "source": [
        "test_word_score"
      ],
      "metadata": {
        "colab": {
          "base_uri": "https://localhost:8080/"
        },
        "id": "_VOVkXIWzXgu",
        "outputId": "0744ce04-fb99-4eda-f70e-eb2223132467"
      },
      "execution_count": 48,
      "outputs": [
        {
          "output_type": "execute_result",
          "data": {
            "text/plain": [
              "0.2108008040216702"
            ]
          },
          "metadata": {},
          "execution_count": 48
        }
      ]
    },
    {
      "cell_type": "markdown",
      "source": [
        "#TODO: PLOT WORD SCORES"
      ],
      "metadata": {
        "id": "hI_PpF6FWvtg"
      }
    },
    {
      "cell_type": "code",
      "source": [
        "import matplotlib.pyplot as plt\n",
        "import pandas as pd\n",
        "X = model_cbow_NYT[model_cbow_NYT.wv.vocab]\n",
        "df = pd.DataFrame(X)\n",
        "df.head()"
      ],
      "metadata": {
        "colab": {
          "base_uri": "https://localhost:8080/",
          "height": 299
        },
        "id": "r6oOnqFzIAgL",
        "outputId": "d93f70a6-b974-4c80-d82b-3a8bc8ec2b41"
      },
      "execution_count": 79,
      "outputs": [
        {
          "output_type": "execute_result",
          "data": {
            "text/plain": [
              "         0         1         2         3         4         5         6   \\\n",
              "0  0.212475 -1.140024  0.541711 -0.075605  0.399896 -0.277549 -0.267174   \n",
              "1 -0.002839 -0.005465  0.004904  0.002118  0.005836 -0.005127 -0.003294   \n",
              "2  0.003646 -0.010879  0.008738  0.001958  0.001585  0.000930 -0.005076   \n",
              "3  0.352562 -1.849293  0.876802 -0.102142  0.602854 -0.469089 -0.459757   \n",
              "4  0.303789 -1.614859  0.763685 -0.096930  0.530653 -0.406438 -0.388517   \n",
              "\n",
              "         7         8         9   ...        90        91        92        93  \\\n",
              "0  0.082595  0.664698  0.229543  ...  0.674101 -0.500990  1.164985 -0.964844   \n",
              "1 -0.002360  0.002330 -0.002467  ...  0.005400 -0.000437  0.008357 -0.007901   \n",
              "2 -0.002218  0.002731 -0.002667  ...  0.004361 -0.006823  0.007080 -0.010065   \n",
              "3  0.098710  1.069903  0.431918  ...  1.101027 -0.827596  1.860606 -1.556998   \n",
              "4  0.080253  0.934204  0.370882  ...  0.968925 -0.718039  1.628003 -1.358521   \n",
              "\n",
              "         94        95        96        97        98        99  \n",
              "0 -0.479339 -0.533142  0.334676 -0.566401 -0.069289  0.172478  \n",
              "1 -0.001006 -0.002313  0.003470  0.001600  0.001740 -0.001078  \n",
              "2 -0.003332 -0.006808  0.002520 -0.003592  0.003896  0.000350  \n",
              "3 -0.713526 -0.844292  0.532511 -0.916648 -0.117461  0.279822  \n",
              "4 -0.636218 -0.735226  0.470902 -0.800953 -0.103507  0.243564  \n",
              "\n",
              "[5 rows x 100 columns]"
            ],
            "text/html": [
              "\n",
              "  <div id=\"df-1432f7ab-35c9-476c-9624-7f615d47646c\">\n",
              "    <div class=\"colab-df-container\">\n",
              "      <div>\n",
              "<style scoped>\n",
              "    .dataframe tbody tr th:only-of-type {\n",
              "        vertical-align: middle;\n",
              "    }\n",
              "\n",
              "    .dataframe tbody tr th {\n",
              "        vertical-align: top;\n",
              "    }\n",
              "\n",
              "    .dataframe thead th {\n",
              "        text-align: right;\n",
              "    }\n",
              "</style>\n",
              "<table border=\"1\" class=\"dataframe\">\n",
              "  <thead>\n",
              "    <tr style=\"text-align: right;\">\n",
              "      <th></th>\n",
              "      <th>0</th>\n",
              "      <th>1</th>\n",
              "      <th>2</th>\n",
              "      <th>3</th>\n",
              "      <th>4</th>\n",
              "      <th>5</th>\n",
              "      <th>6</th>\n",
              "      <th>7</th>\n",
              "      <th>8</th>\n",
              "      <th>9</th>\n",
              "      <th>...</th>\n",
              "      <th>90</th>\n",
              "      <th>91</th>\n",
              "      <th>92</th>\n",
              "      <th>93</th>\n",
              "      <th>94</th>\n",
              "      <th>95</th>\n",
              "      <th>96</th>\n",
              "      <th>97</th>\n",
              "      <th>98</th>\n",
              "      <th>99</th>\n",
              "    </tr>\n",
              "  </thead>\n",
              "  <tbody>\n",
              "    <tr>\n",
              "      <th>0</th>\n",
              "      <td>0.212475</td>\n",
              "      <td>-1.140024</td>\n",
              "      <td>0.541711</td>\n",
              "      <td>-0.075605</td>\n",
              "      <td>0.399896</td>\n",
              "      <td>-0.277549</td>\n",
              "      <td>-0.267174</td>\n",
              "      <td>0.082595</td>\n",
              "      <td>0.664698</td>\n",
              "      <td>0.229543</td>\n",
              "      <td>...</td>\n",
              "      <td>0.674101</td>\n",
              "      <td>-0.500990</td>\n",
              "      <td>1.164985</td>\n",
              "      <td>-0.964844</td>\n",
              "      <td>-0.479339</td>\n",
              "      <td>-0.533142</td>\n",
              "      <td>0.334676</td>\n",
              "      <td>-0.566401</td>\n",
              "      <td>-0.069289</td>\n",
              "      <td>0.172478</td>\n",
              "    </tr>\n",
              "    <tr>\n",
              "      <th>1</th>\n",
              "      <td>-0.002839</td>\n",
              "      <td>-0.005465</td>\n",
              "      <td>0.004904</td>\n",
              "      <td>0.002118</td>\n",
              "      <td>0.005836</td>\n",
              "      <td>-0.005127</td>\n",
              "      <td>-0.003294</td>\n",
              "      <td>-0.002360</td>\n",
              "      <td>0.002330</td>\n",
              "      <td>-0.002467</td>\n",
              "      <td>...</td>\n",
              "      <td>0.005400</td>\n",
              "      <td>-0.000437</td>\n",
              "      <td>0.008357</td>\n",
              "      <td>-0.007901</td>\n",
              "      <td>-0.001006</td>\n",
              "      <td>-0.002313</td>\n",
              "      <td>0.003470</td>\n",
              "      <td>0.001600</td>\n",
              "      <td>0.001740</td>\n",
              "      <td>-0.001078</td>\n",
              "    </tr>\n",
              "    <tr>\n",
              "      <th>2</th>\n",
              "      <td>0.003646</td>\n",
              "      <td>-0.010879</td>\n",
              "      <td>0.008738</td>\n",
              "      <td>0.001958</td>\n",
              "      <td>0.001585</td>\n",
              "      <td>0.000930</td>\n",
              "      <td>-0.005076</td>\n",
              "      <td>-0.002218</td>\n",
              "      <td>0.002731</td>\n",
              "      <td>-0.002667</td>\n",
              "      <td>...</td>\n",
              "      <td>0.004361</td>\n",
              "      <td>-0.006823</td>\n",
              "      <td>0.007080</td>\n",
              "      <td>-0.010065</td>\n",
              "      <td>-0.003332</td>\n",
              "      <td>-0.006808</td>\n",
              "      <td>0.002520</td>\n",
              "      <td>-0.003592</td>\n",
              "      <td>0.003896</td>\n",
              "      <td>0.000350</td>\n",
              "    </tr>\n",
              "    <tr>\n",
              "      <th>3</th>\n",
              "      <td>0.352562</td>\n",
              "      <td>-1.849293</td>\n",
              "      <td>0.876802</td>\n",
              "      <td>-0.102142</td>\n",
              "      <td>0.602854</td>\n",
              "      <td>-0.469089</td>\n",
              "      <td>-0.459757</td>\n",
              "      <td>0.098710</td>\n",
              "      <td>1.069903</td>\n",
              "      <td>0.431918</td>\n",
              "      <td>...</td>\n",
              "      <td>1.101027</td>\n",
              "      <td>-0.827596</td>\n",
              "      <td>1.860606</td>\n",
              "      <td>-1.556998</td>\n",
              "      <td>-0.713526</td>\n",
              "      <td>-0.844292</td>\n",
              "      <td>0.532511</td>\n",
              "      <td>-0.916648</td>\n",
              "      <td>-0.117461</td>\n",
              "      <td>0.279822</td>\n",
              "    </tr>\n",
              "    <tr>\n",
              "      <th>4</th>\n",
              "      <td>0.303789</td>\n",
              "      <td>-1.614859</td>\n",
              "      <td>0.763685</td>\n",
              "      <td>-0.096930</td>\n",
              "      <td>0.530653</td>\n",
              "      <td>-0.406438</td>\n",
              "      <td>-0.388517</td>\n",
              "      <td>0.080253</td>\n",
              "      <td>0.934204</td>\n",
              "      <td>0.370882</td>\n",
              "      <td>...</td>\n",
              "      <td>0.968925</td>\n",
              "      <td>-0.718039</td>\n",
              "      <td>1.628003</td>\n",
              "      <td>-1.358521</td>\n",
              "      <td>-0.636218</td>\n",
              "      <td>-0.735226</td>\n",
              "      <td>0.470902</td>\n",
              "      <td>-0.800953</td>\n",
              "      <td>-0.103507</td>\n",
              "      <td>0.243564</td>\n",
              "    </tr>\n",
              "  </tbody>\n",
              "</table>\n",
              "<p>5 rows × 100 columns</p>\n",
              "</div>\n",
              "      <button class=\"colab-df-convert\" onclick=\"convertToInteractive('df-1432f7ab-35c9-476c-9624-7f615d47646c')\"\n",
              "              title=\"Convert this dataframe to an interactive table.\"\n",
              "              style=\"display:none;\">\n",
              "        \n",
              "  <svg xmlns=\"http://www.w3.org/2000/svg\" height=\"24px\"viewBox=\"0 0 24 24\"\n",
              "       width=\"24px\">\n",
              "    <path d=\"M0 0h24v24H0V0z\" fill=\"none\"/>\n",
              "    <path d=\"M18.56 5.44l.94 2.06.94-2.06 2.06-.94-2.06-.94-.94-2.06-.94 2.06-2.06.94zm-11 1L8.5 8.5l.94-2.06 2.06-.94-2.06-.94L8.5 2.5l-.94 2.06-2.06.94zm10 10l.94 2.06.94-2.06 2.06-.94-2.06-.94-.94-2.06-.94 2.06-2.06.94z\"/><path d=\"M17.41 7.96l-1.37-1.37c-.4-.4-.92-.59-1.43-.59-.52 0-1.04.2-1.43.59L10.3 9.45l-7.72 7.72c-.78.78-.78 2.05 0 2.83L4 21.41c.39.39.9.59 1.41.59.51 0 1.02-.2 1.41-.59l7.78-7.78 2.81-2.81c.8-.78.8-2.07 0-2.86zM5.41 20L4 18.59l7.72-7.72 1.47 1.35L5.41 20z\"/>\n",
              "  </svg>\n",
              "      </button>\n",
              "      \n",
              "  <style>\n",
              "    .colab-df-container {\n",
              "      display:flex;\n",
              "      flex-wrap:wrap;\n",
              "      gap: 12px;\n",
              "    }\n",
              "\n",
              "    .colab-df-convert {\n",
              "      background-color: #E8F0FE;\n",
              "      border: none;\n",
              "      border-radius: 50%;\n",
              "      cursor: pointer;\n",
              "      display: none;\n",
              "      fill: #1967D2;\n",
              "      height: 32px;\n",
              "      padding: 0 0 0 0;\n",
              "      width: 32px;\n",
              "    }\n",
              "\n",
              "    .colab-df-convert:hover {\n",
              "      background-color: #E2EBFA;\n",
              "      box-shadow: 0px 1px 2px rgba(60, 64, 67, 0.3), 0px 1px 3px 1px rgba(60, 64, 67, 0.15);\n",
              "      fill: #174EA6;\n",
              "    }\n",
              "\n",
              "    [theme=dark] .colab-df-convert {\n",
              "      background-color: #3B4455;\n",
              "      fill: #D2E3FC;\n",
              "    }\n",
              "\n",
              "    [theme=dark] .colab-df-convert:hover {\n",
              "      background-color: #434B5C;\n",
              "      box-shadow: 0px 1px 3px 1px rgba(0, 0, 0, 0.15);\n",
              "      filter: drop-shadow(0px 1px 2px rgba(0, 0, 0, 0.3));\n",
              "      fill: #FFFFFF;\n",
              "    }\n",
              "  </style>\n",
              "\n",
              "      <script>\n",
              "        const buttonEl =\n",
              "          document.querySelector('#df-1432f7ab-35c9-476c-9624-7f615d47646c button.colab-df-convert');\n",
              "        buttonEl.style.display =\n",
              "          google.colab.kernel.accessAllowed ? 'block' : 'none';\n",
              "\n",
              "        async function convertToInteractive(key) {\n",
              "          const element = document.querySelector('#df-1432f7ab-35c9-476c-9624-7f615d47646c');\n",
              "          const dataTable =\n",
              "            await google.colab.kernel.invokeFunction('convertToInteractive',\n",
              "                                                     [key], {});\n",
              "          if (!dataTable) return;\n",
              "\n",
              "          const docLinkHtml = 'Like what you see? Visit the ' +\n",
              "            '<a target=\"_blank\" href=https://colab.research.google.com/notebooks/data_table.ipynb>data table notebook</a>'\n",
              "            + ' to learn more about interactive tables.';\n",
              "          element.innerHTML = '';\n",
              "          dataTable['output_type'] = 'display_data';\n",
              "          await google.colab.output.renderOutput(dataTable, element);\n",
              "          const docLink = document.createElement('div');\n",
              "          docLink.innerHTML = docLinkHtml;\n",
              "          element.appendChild(docLink);\n",
              "        }\n",
              "      </script>\n",
              "    </div>\n",
              "  </div>\n",
              "  "
            ]
          },
          "metadata": {},
          "execution_count": 79
        }
      ]
    },
    {
      "cell_type": "code",
      "source": [
        "X_corr = df.corr()\n",
        "values, vectors = np.linalg.eig(X_corr)\n",
        "\n",
        "args = (-values).argsort()\n",
        "values = vectors[args]\n",
        "vectors = vectors[:, args]\n",
        "\n",
        "new_vectors = vectors[:,:2]\n",
        "neww_X = np.dot(X,new_vectors)"
      ],
      "metadata": {
        "id": "IpyW4GztUXgR"
      },
      "execution_count": 80,
      "outputs": []
    },
    {
      "cell_type": "code",
      "source": [
        "plt.scatter(neww_X[:,0], neww_X[:,1])\n",
        "vocab = list(model_cbow_NYT.wv.vocab)\n",
        "# for i, word in enumerate(vocab):\n",
        "#   plt.annotate(word, xy=(neww_X[i,0],neww_X[i,1]))"
      ],
      "metadata": {
        "colab": {
          "base_uri": "https://localhost:8080/",
          "height": 265
        },
        "id": "7r_oBqEeU1Cw",
        "outputId": "2d9e27b3-a4a2-4237-d6fa-2e8cc10c9999"
      },
      "execution_count": 83,
      "outputs": [
        {
          "output_type": "display_data",
          "data": {
            "text/plain": [
              "<Figure size 432x288 with 1 Axes>"
            ],
            "image/png": "[encoded data removed]"
          },
          "metadata": {
            "needs_background": "light"
          }
        }
      ]
    },
    {
      "cell_type": "code",
      "source": [
        "# analogy test\n",
        "model_cbow_Fox.most_similar(positive=[\"woman\",\"chef\"], negative=[\"man\"],topn=5)"
      ],
      "metadata": {
        "colab": {
          "base_uri": "https://localhost:8080/"
        },
        "id": "5jKYLFxcVA26",
        "outputId": "bced8445-578a-488c-cb54-e002b0ad7ade"
      },
      "execution_count": 88,
      "outputs": [
        {
          "output_type": "execute_result",
          "data": {
            "text/plain": [
              "[('boyardee', 0.5779699087142944),\n",
              " ('prenatal', 0.4195617437362671),\n",
              " ('—the', 0.4140213429927826),\n",
              " (\"'could\", 0.4070339798927307),\n",
              " ('4.6', 0.4053455591201782)]"
            ]
          },
          "metadata": {},
          "execution_count": 88
        }
      ]
    },
    {
      "cell_type": "code",
      "source": [
        "# pretty print function\n",
        "def pp(obj):\n",
        "    print(pd.DataFrame(obj))\n",
        "    \n",
        "def analogy(worda, wordb, wordc):\n",
        "    result = model_cbow_Fox.most_similar(negative=[worda], \n",
        "                                positive=[wordb, wordc])\n",
        "    return result[0][0]\n",
        "\n",
        "gendered_stuff = ['queen', 'waitress', 'princess', 'actress', 'nurse']\n",
        "occupations = [analogy('king', 'man', gender) for gender in gendered_stuff]\n",
        "pp(zip(gendered_stuff, occupations))"
      ],
      "metadata": {
        "colab": {
          "base_uri": "https://localhost:8080/"
        },
        "id": "l8D8BwBAZGKL",
        "outputId": "bc6bd2bf-7a26-4a87-ec98-9688c79c7b63"
      },
      "execution_count": 93,
      "outputs": [
        {
          "output_type": "stream",
          "name": "stdout",
          "text": [
            "          0       1\n",
            "0     queen  carter\n",
            "1  waitress  waiter\n",
            "2  princess  carter\n",
            "3   actress    nick\n",
            "4     nurse  carter\n"
          ]
        }
      ]
    },
    {
      "cell_type": "code",
      "source": [
        "from sklearn.decomposition import PCA\n",
        "\n",
        "def plot_data(orig_data, labels):\n",
        "    pca = PCA(n_components=2)\n",
        "    data = pca.fit_transform(orig_data)\n",
        "    plt.figure(figsize=(7, 5), dpi=100)\n",
        "    plt.plot(data[:,0], data[:,1], '.')\n",
        "    for i in range(len(data)):\n",
        "        plt.annotate(labels[i], xy = data[i])\n",
        "    for i in range(len(data)//2):\n",
        "        plt.annotate(\"\",\n",
        "                xy=data[i],\n",
        "                xytext=data[i+len(data)//2],\n",
        "                arrowprops=dict(arrowstyle=\"->\",\n",
        "                                connectionstyle=\"arc3\")\n",
        "        )\n",
        "       \n",
        "labels = gendered_stuff + occupations\n",
        "data = [model_cbow_Fox[w] for w in labels]\n",
        "plot_data(data, labels)"
      ],
      "metadata": {
        "colab": {
          "base_uri": "https://localhost:8080/",
          "height": 438
        },
        "id": "d9XW3GKOWf-J",
        "outputId": "04df310e-8778-484d-d1e0-59d48964f906"
      },
      "execution_count": 94,
      "outputs": [
        {
          "output_type": "display_data",
          "data": {
            "text/plain": [
              "<Figure size 700x500 with 1 Axes>"
            ],
            "image/png": "[encoded data removed]"
          },
          "metadata": {
            "needs_background": "light"
          }
        }
      ]
    },
    {
      "cell_type": "code",
      "source": [],
      "metadata": {
        "id": "VHoQK9VFagK2"
      },
      "execution_count": null,
      "outputs": []
    }
  ],
  "metadata": {
    "colab": {
      "provenance": []
    },
    "kernelspec": {
      "display_name": "Python 3",
      "name": "python3"
    },
    "language_info": {
      "name": "python"
    }
  },
  "nbformat": 4,
  "nbformat_minor": 0
}