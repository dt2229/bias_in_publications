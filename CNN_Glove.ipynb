{
  "cells": [
    {
      "cell_type": "markdown",
      "metadata": {
        "id": "view-in-github",
        "colab_type": "text"
      },
      "source": [
        "<a href=\"https://colab.research.google.com/github/dt2229/bias_in_publications/blob/bhavna/CNN_Glove.ipynb\" target=\"_parent\"><img src=\"https://colab.research.google.com/assets/colab-badge.svg\" alt=\"Open In Colab\"/></a>"
      ]
    },
    {
      "cell_type": "code",
      "execution_count": 1,
      "metadata": {
        "id": "K6hLWiK-x3D4",
        "colab": {
          "base_uri": "https://localhost:8080/"
        },
        "outputId": "db8fba11-481f-4459-eaf2-f059a28e2f16"
      },
      "outputs": [
        {
          "output_type": "stream",
          "name": "stdout",
          "text": [
            "Looking in indexes: https://pypi.org/simple, https://us-python.pkg.dev/colab-wheels/public/simple/\n",
            "Collecting glove_python_binary\n",
            "  Downloading glove_python_binary-0.2.0-cp38-cp38-manylinux1_x86_64.whl (974 kB)\n",
            "\u001b[K     |████████████████████████████████| 974 kB 4.0 MB/s \n",
            "\u001b[?25hRequirement already satisfied: scipy in /usr/local/lib/python3.8/dist-packages (from glove_python_binary) (1.7.3)\n",
            "Requirement already satisfied: numpy in /usr/local/lib/python3.8/dist-packages (from glove_python_binary) (1.21.6)\n",
            "Installing collected packages: glove-python-binary\n",
            "Successfully installed glove-python-binary-0.2.0\n"
          ]
        }
      ],
      "source": [
        "pip install glove_python_binary"
      ]
    },
    {
      "cell_type": "code",
      "source": [
        "import re\n",
        "import numpy as np\n",
        "import nltk\n",
        "from glove import Corpus, Glove\n",
        "from nltk.tokenize import sent_tokenize, word_tokenize\n",
        "from multiprocessing import Pool\n",
        "from scipy import spatial\n",
        "from matplotlib import pyplot as plt\n",
        "import pandas as pd"
      ],
      "metadata": {
        "id": "SQqQOBF5pCYJ"
      },
      "execution_count": 2,
      "outputs": []
    },
    {
      "cell_type": "code",
      "source": [
        "from google.colab import drive\n",
        "drive.mount('/content/drive')"
      ],
      "metadata": {
        "colab": {
          "base_uri": "https://localhost:8080/"
        },
        "id": "c2dfSp56mQSl",
        "outputId": "cea04e18-ce34-489f-d02e-3bf2891c2b3d"
      },
      "execution_count": 3,
      "outputs": [
        {
          "output_type": "stream",
          "name": "stdout",
          "text": [
            "Mounted at /content/drive\n"
          ]
        }
      ]
    },
    {
      "cell_type": "code",
      "source": [
        "ls"
      ],
      "metadata": {
        "colab": {
          "base_uri": "https://localhost:8080/"
        },
        "id": "EcymKHcxhbdG",
        "outputId": "6a661c6c-2629-443d-a15c-dc720d1cb603"
      },
      "execution_count": 51,
      "outputs": [
        {
          "output_type": "stream",
          "name": "stdout",
          "text": [
            " all_cnn_text_combined.csv    Fox.csv             NYT.csv\n",
            " all_fox_text_combined.csv   'Fox Glove.ipynb'    simlex999.csv\n",
            " cnn.csv                      Fox.gsheet          SimLex-999.txt\n",
            "'CNN Glove.ipynb'             glove.6B.100d.txt\n",
            " cnn_link_text_combined.csv   Glove.ipynb\n"
          ]
        }
      ]
    },
    {
      "cell_type": "code",
      "source": [
        "CNN_sample = open(\"/content/drive/My Drive/NLP Project Space/all_cnn_text_combined.csv\")\n",
        "CNN = CNN_sample.read()"
      ],
      "metadata": {
        "id": "AwcVmdQ7hrBQ"
      },
      "execution_count": 52,
      "outputs": []
    },
    {
      "cell_type": "code",
      "source": [
        "nltk.download('punkt')\n",
        "n = CNN.replace(\"\\n\", \" \")\n",
        "CNN_data = []\n",
        "for i in sent_tokenize(n):\n",
        "    temp = []\n",
        "    for j in word_tokenize(i):\n",
        "        temp.append(j.lower())\n",
        "    CNN_data.append(temp)"
      ],
      "metadata": {
        "id": "zXZLzW5z6raU",
        "colab": {
          "base_uri": "https://localhost:8080/"
        },
        "outputId": "76638791-ff88-4e5d-98bc-5e4539eae12b"
      },
      "execution_count": 53,
      "outputs": [
        {
          "output_type": "stream",
          "name": "stderr",
          "text": [
            "[nltk_data] Downloading package punkt to /root/nltk_data...\n",
            "[nltk_data]   Package punkt is already up-to-date!\n"
          ]
        }
      ]
    },
    {
      "cell_type": "code",
      "source": [
        "for i in range(len(CNN_data)):\n",
        "    CNN_data[i] = [word.lower() for word in CNN_data[i] if re.match('^[a-zA-Z]+', word)]  "
      ],
      "metadata": {
        "id": "snmwgNIo7Kwl"
      },
      "execution_count": 54,
      "outputs": []
    },
    {
      "cell_type": "code",
      "source": [
        "corpus = Corpus()\n",
        "corpus.fit(CNN_data, window = 3)\n",
        "glove = Glove(no_components = 30, learning_rate = 0.1)\n",
        "glove.fit(matrix = corpus.matrix, epochs = 30, no_threads = Pool()._processes, verbose = True)"
      ],
      "metadata": {
        "colab": {
          "base_uri": "https://localhost:8080/"
        },
        "id": "LmXKif8fpxC-",
        "outputId": "525e95b6-05ac-45c3-c871-2e6c160767c6"
      },
      "execution_count": 55,
      "outputs": [
        {
          "output_type": "stream",
          "name": "stdout",
          "text": [
            "Performing 30 training epochs with 2 threads\n",
            "Epoch 0\n",
            "Epoch 1\n",
            "Epoch 2\n",
            "Epoch 3\n",
            "Epoch 4\n",
            "Epoch 5\n",
            "Epoch 6\n",
            "Epoch 7\n",
            "Epoch 8\n",
            "Epoch 9\n",
            "Epoch 10\n",
            "Epoch 11\n",
            "Epoch 12\n",
            "Epoch 13\n",
            "Epoch 14\n",
            "Epoch 15\n",
            "Epoch 16\n",
            "Epoch 17\n",
            "Epoch 18\n",
            "Epoch 19\n",
            "Epoch 20\n",
            "Epoch 21\n",
            "Epoch 22\n",
            "Epoch 23\n",
            "Epoch 24\n",
            "Epoch 25\n",
            "Epoch 26\n",
            "Epoch 27\n",
            "Epoch 28\n",
            "Epoch 29\n"
          ]
        }
      ]
    },
    {
      "cell_type": "code",
      "source": [
        "glove.add_dictionary(corpus.dictionary)"
      ],
      "metadata": {
        "id": "to644RBPqDln"
      },
      "execution_count": 56,
      "outputs": []
    },
    {
      "cell_type": "code",
      "source": [
        "import random\n",
        "from random import randint\n",
        "import math\n",
        "import pandas as pd\n",
        "import numpy as np\n",
        "import matplotlib.pyplot as plt\n",
        "import seaborn as sns\n",
        "import pandas_profiling as pp\n",
        "from sklearn.model_selection import train_test_split # Import train_test_split function\n",
        "from sklearn import metrics #Import scikit-learn metrics module for accuracy calculation\n",
        "from sklearn.decomposition import PCA"
      ],
      "metadata": {
        "id": "VHembkEXBMy2"
      },
      "execution_count": 57,
      "outputs": []
    },
    {
      "cell_type": "code",
      "source": [
        "woman_sim = glove.most_similar('woman', number = 50)\n",
        "man_sim = glove.most_similar('man', number = 50)\n",
        "df = pd.DataFrame(woman_sim)\n",
        "df.head(4)"
      ],
      "metadata": {
        "colab": {
          "base_uri": "https://localhost:8080/",
          "height": 173
        },
        "id": "k0FR-sYEqNwK",
        "outputId": "284da7a6-2cbc-460b-bd9d-517fe0b91b04"
      },
      "execution_count": 58,
      "outputs": [
        {
          "output_type": "execute_result",
          "data": {
            "text/plain": [
              "                 0         1\n",
              "0            black  0.836530\n",
              "1          elected  0.814686\n",
              "2  longest-serving  0.791476\n",
              "3            first  0.670687"
            ],
            "text/html": [
              "\n",
              "  <div id=\"df-007c5fe2-c695-47f6-b1ee-c2f88f77f3c9\">\n",
              "    <div class=\"colab-df-container\">\n",
              "      <div>\n",
              "<style scoped>\n",
              "    .dataframe tbody tr th:only-of-type {\n",
              "        vertical-align: middle;\n",
              "    }\n",
              "\n",
              "    .dataframe tbody tr th {\n",
              "        vertical-align: top;\n",
              "    }\n",
              "\n",
              "    .dataframe thead th {\n",
              "        text-align: right;\n",
              "    }\n",
              "</style>\n",
              "<table border=\"1\" class=\"dataframe\">\n",
              "  <thead>\n",
              "    <tr style=\"text-align: right;\">\n",
              "      <th></th>\n",
              "      <th>0</th>\n",
              "      <th>1</th>\n",
              "    </tr>\n",
              "  </thead>\n",
              "  <tbody>\n",
              "    <tr>\n",
              "      <th>0</th>\n",
              "      <td>black</td>\n",
              "      <td>0.836530</td>\n",
              "    </tr>\n",
              "    <tr>\n",
              "      <th>1</th>\n",
              "      <td>elected</td>\n",
              "      <td>0.814686</td>\n",
              "    </tr>\n",
              "    <tr>\n",
              "      <th>2</th>\n",
              "      <td>longest-serving</td>\n",
              "      <td>0.791476</td>\n",
              "    </tr>\n",
              "    <tr>\n",
              "      <th>3</th>\n",
              "      <td>first</td>\n",
              "      <td>0.670687</td>\n",
              "    </tr>\n",
              "  </tbody>\n",
              "</table>\n",
              "</div>\n",
              "      <button class=\"colab-df-convert\" onclick=\"convertToInteractive('df-007c5fe2-c695-47f6-b1ee-c2f88f77f3c9')\"\n",
              "              title=\"Convert this dataframe to an interactive table.\"\n",
              "              style=\"display:none;\">\n",
              "        \n",
              "  <svg xmlns=\"http://www.w3.org/2000/svg\" height=\"24px\"viewBox=\"0 0 24 24\"\n",
              "       width=\"24px\">\n",
              "    <path d=\"M0 0h24v24H0V0z\" fill=\"none\"/>\n",
              "    <path d=\"M18.56 5.44l.94 2.06.94-2.06 2.06-.94-2.06-.94-.94-2.06-.94 2.06-2.06.94zm-11 1L8.5 8.5l.94-2.06 2.06-.94-2.06-.94L8.5 2.5l-.94 2.06-2.06.94zm10 10l.94 2.06.94-2.06 2.06-.94-2.06-.94-.94-2.06-.94 2.06-2.06.94z\"/><path d=\"M17.41 7.96l-1.37-1.37c-.4-.4-.92-.59-1.43-.59-.52 0-1.04.2-1.43.59L10.3 9.45l-7.72 7.72c-.78.78-.78 2.05 0 2.83L4 21.41c.39.39.9.59 1.41.59.51 0 1.02-.2 1.41-.59l7.78-7.78 2.81-2.81c.8-.78.8-2.07 0-2.86zM5.41 20L4 18.59l7.72-7.72 1.47 1.35L5.41 20z\"/>\n",
              "  </svg>\n",
              "      </button>\n",
              "      \n",
              "  <style>\n",
              "    .colab-df-container {\n",
              "      display:flex;\n",
              "      flex-wrap:wrap;\n",
              "      gap: 12px;\n",
              "    }\n",
              "\n",
              "    .colab-df-convert {\n",
              "      background-color: #E8F0FE;\n",
              "      border: none;\n",
              "      border-radius: 50%;\n",
              "      cursor: pointer;\n",
              "      display: none;\n",
              "      fill: #1967D2;\n",
              "      height: 32px;\n",
              "      padding: 0 0 0 0;\n",
              "      width: 32px;\n",
              "    }\n",
              "\n",
              "    .colab-df-convert:hover {\n",
              "      background-color: #E2EBFA;\n",
              "      box-shadow: 0px 1px 2px rgba(60, 64, 67, 0.3), 0px 1px 3px 1px rgba(60, 64, 67, 0.15);\n",
              "      fill: #174EA6;\n",
              "    }\n",
              "\n",
              "    [theme=dark] .colab-df-convert {\n",
              "      background-color: #3B4455;\n",
              "      fill: #D2E3FC;\n",
              "    }\n",
              "\n",
              "    [theme=dark] .colab-df-convert:hover {\n",
              "      background-color: #434B5C;\n",
              "      box-shadow: 0px 1px 3px 1px rgba(0, 0, 0, 0.15);\n",
              "      filter: drop-shadow(0px 1px 2px rgba(0, 0, 0, 0.3));\n",
              "      fill: #FFFFFF;\n",
              "    }\n",
              "  </style>\n",
              "\n",
              "      <script>\n",
              "        const buttonEl =\n",
              "          document.querySelector('#df-007c5fe2-c695-47f6-b1ee-c2f88f77f3c9 button.colab-df-convert');\n",
              "        buttonEl.style.display =\n",
              "          google.colab.kernel.accessAllowed ? 'block' : 'none';\n",
              "\n",
              "        async function convertToInteractive(key) {\n",
              "          const element = document.querySelector('#df-007c5fe2-c695-47f6-b1ee-c2f88f77f3c9');\n",
              "          const dataTable =\n",
              "            await google.colab.kernel.invokeFunction('convertToInteractive',\n",
              "                                                     [key], {});\n",
              "          if (!dataTable) return;\n",
              "\n",
              "          const docLinkHtml = 'Like what you see? Visit the ' +\n",
              "            '<a target=\"_blank\" href=https://colab.research.google.com/notebooks/data_table.ipynb>data table notebook</a>'\n",
              "            + ' to learn more about interactive tables.';\n",
              "          element.innerHTML = '';\n",
              "          dataTable['output_type'] = 'display_data';\n",
              "          await google.colab.output.renderOutput(dataTable, element);\n",
              "          const docLink = document.createElement('div');\n",
              "          docLink.innerHTML = docLinkHtml;\n",
              "          element.appendChild(docLink);\n",
              "        }\n",
              "      </script>\n",
              "    </div>\n",
              "  </div>\n",
              "  "
            ]
          },
          "metadata": {},
          "execution_count": 58
        }
      ]
    },
    {
      "cell_type": "code",
      "source": [
        "def vector_converter(word):\n",
        "    idx = glove.dictionary[word]\n",
        "    return glove.word_vectors[idx]"
      ],
      "metadata": {
        "id": "qgsv6NX5rQIZ"
      },
      "execution_count": 59,
      "outputs": []
    },
    {
      "cell_type": "code",
      "source": [
        "def cosine_similarity(v1, v2):\n",
        "    return 1 - spatial.distance.cosine(v1, v2)"
      ],
      "metadata": {
        "id": "srJZmW2YrRdy"
      },
      "execution_count": 60,
      "outputs": []
    },
    {
      "cell_type": "code",
      "source": [
        "def pair_sim(pair):\n",
        "  v1 = vector_converter(pair[0])\n",
        "  v2 = vector_converter(pair[1])\n",
        "  sim = cosine_similarity(v1,v2)\n",
        "  return sim"
      ],
      "metadata": {
        "id": "kFeZ_hACOsVW"
      },
      "execution_count": 61,
      "outputs": []
    },
    {
      "cell_type": "code",
      "source": [
        "v1 = vector_converter('woman')\n",
        "v2 = vector_converter('man')\n",
        "cosine_similarity(v1, v2)"
      ],
      "metadata": {
        "colab": {
          "base_uri": "https://localhost:8080/"
        },
        "id": "Oozvx5h0rW8o",
        "outputId": "c9c8dd1e-e53a-4f36-e71f-585c289385ba"
      },
      "execution_count": 62,
      "outputs": [
        {
          "output_type": "execute_result",
          "data": {
            "text/plain": [
              "0.3110981907989243"
            ]
          },
          "metadata": {},
          "execution_count": 62
        }
      ]
    },
    {
      "cell_type": "code",
      "source": [
        "def glove_analogy(word_a, word_b, word_c):\n",
        "    \"\"\"\n",
        "    Performs the word analogy task as explained above: a is to b as c is to ____. \n",
        "    \n",
        "    Arguments:\n",
        "    word_a -- a word, string\n",
        "    word_b -- a word, string\n",
        "    word_c -- a word, string\n",
        "    word_to_vec_map -- dictionary that maps words to their corresponding vectors. \n",
        "    \n",
        "    Returns:\n",
        "    best_word --  the word such that v_b - v_a is close to v_best_word - v_c, as measured by cosine similarity\n",
        "    \"\"\"\n",
        "    \n",
        "    word_a, word_b, word_c = word_a.lower(), word_b.lower(), word_c.lower()\n",
        "    \n",
        "    e_a, e_b, e_c = vector_converter(word_a), vector_converter(word_b), vector_converter(word_c)\n",
        "    \n",
        "    words = corpus.dictionary\n",
        "    max_cosine_sim = -100              \n",
        "    best_word = None                   \n",
        "    for w in words:        \n",
        "        if w in [word_a, word_b, word_c] :\n",
        "            continue\n",
        "        cosine_sim = cosine_similarity(e_b - e_a, vector_converter(w) - e_c)     \n",
        " \n",
        "        if cosine_sim > max_cosine_sim:\n",
        "            max_cosine_sim = cosine_sim\n",
        "            best_word = w\n",
        "        \n",
        "    return best_word"
      ],
      "metadata": {
        "id": "b3Ksz_nEKGVO"
      },
      "execution_count": 63,
      "outputs": []
    },
    {
      "cell_type": "code",
      "source": [
        "import nltk\n",
        "from nltk.corpus import stopwords\n",
        "nltk.download('stopwords')\n",
        "words =  list(corpus.dictionary.keys())\n",
        "gen_words = gendered_stuff = ['queen', 'mother', 'princess', 'teacher', 'nurse', 'sister', 'caretaker', 'secretary', 'model', 'daughter']\n",
        "#words_no_sw = [word for word in words if not word in stopwords.words()]\n",
        "#vectors = [vector_converter(word) for word in words_no_sw]\n",
        "gen_vec = [vector_converter(word) for word in gen_words]"
      ],
      "metadata": {
        "colab": {
          "base_uri": "https://localhost:8080/"
        },
        "id": "S_6K_8N1hIrR",
        "outputId": "80739c98-8350-4357-c319-cd6716719c2d"
      },
      "execution_count": 66,
      "outputs": [
        {
          "output_type": "stream",
          "name": "stderr",
          "text": [
            "[nltk_data] Downloading package stopwords to /root/nltk_data...\n",
            "[nltk_data]   Package stopwords is already up-to-date!\n"
          ]
        }
      ]
    },
    {
      "cell_type": "code",
      "source": [
        "triad=['woman', 'daughter', 'man']\n",
        "print ('{} -> {} : {} -> {}'.format(triad[0],triad[1],triad[2], glove_analogy(triad[0],triad[1],triad[2])))"
      ],
      "metadata": {
        "colab": {
          "base_uri": "https://localhost:8080/"
        },
        "id": "w1KkdOQkudPg",
        "outputId": "92a4e296-edd3-480f-89fb-e2d3f660ad36"
      },
      "execution_count": 67,
      "outputs": [
        {
          "output_type": "stream",
          "name": "stdout",
          "text": [
            "woman -> daughter : man -> mom\n"
          ]
        }
      ]
    },
    {
      "cell_type": "code",
      "source": [
        "simlex999 = pd.read_csv(\"/content/drive/My Drive/NLP Project Space/simlex999.csv\").iloc[:,0:3]\n",
        "simlex999.head(10)\n",
        "simlex_pairs = simlex999.iloc[:,0:2]"
      ],
      "metadata": {
        "id": "A48CNXnVQ_2Z"
      },
      "execution_count": 68,
      "outputs": []
    },
    {
      "cell_type": "code",
      "source": [
        "def sim(idx):\n",
        "  glove_sim = pair_sim([simlex_pairs.loc[idx][0], simlex_pairs.loc[idx][1]])\n",
        "  simlex_sim = simlex999.iloc[idx][2] \n",
        "  print(simlex_sim, glove_sim, simlex_pairs.loc[idx])"
      ],
      "metadata": {
        "id": "61d1nDUpIHDG"
      },
      "execution_count": 69,
      "outputs": []
    },
    {
      "cell_type": "code",
      "source": [
        "sim(234)"
      ],
      "metadata": {
        "colab": {
          "base_uri": "https://localhost:8080/"
        },
        "id": "JF89QWyFo7k0",
        "outputId": "17f5b5ab-0aa0-4a84-8411-1658b2539cba"
      },
      "execution_count": 70,
      "outputs": [
        {
          "output_type": "stream",
          "name": "stdout",
          "text": [
            "9.461538462 0.3793645908256159 word 1    attorney\n",
            "word 2      lawyer\n",
            "Name: 234, dtype: object\n"
          ]
        }
      ]
    },
    {
      "cell_type": "code",
      "source": [
        "analogous = [glove_analogy('woman', gender, 'man') for gender in gen_words]\n",
        "analogous + gen_words"
      ],
      "metadata": {
        "colab": {
          "base_uri": "https://localhost:8080/"
        },
        "id": "PYsMhrYUr3ok",
        "outputId": "dd578da9-d4a7-4b34-d918-a5afecb1cb64"
      },
      "execution_count": 71,
      "outputs": [
        {
          "output_type": "execute_result",
          "data": {
            "text/plain": [
              "['jeff',\n",
              " 'monday',\n",
              " 'inc.',\n",
              " 'poll',\n",
              " 'exclusive',\n",
              " 'exclusive',\n",
              " 'reston',\n",
              " 'nancy',\n",
              " 'daniel',\n",
              " 'mom',\n",
              " 'queen',\n",
              " 'mother',\n",
              " 'princess',\n",
              " 'teacher',\n",
              " 'nurse',\n",
              " 'sister',\n",
              " 'caretaker',\n",
              " 'secretary',\n",
              " 'model',\n",
              " 'daughter']"
            ]
          },
          "metadata": {},
          "execution_count": 71
        }
      ]
    },
    {
      "cell_type": "code",
      "source": [
        "import matplotlib\n",
        "import matplotlib.pyplot as plt\n",
        "%matplotlib inline\n",
        "def plot_data(orig_data, labels):\n",
        "    pca = PCA(n_components=2)\n",
        "    data = pca.fit_transform(orig_data)\n",
        "    plt.figure(figsize=(7, 5), dpi=100)\n",
        "    plt.plot(data[:,0], data[:,1], '.')\n",
        "    for i in range(len(data)):\n",
        "        plt.annotate(labels[i], xy = data[i])\n",
        "    for i in range(len(data)//2):\n",
        "        plt.annotate(\"\",\n",
        "                xy=data[i],\n",
        "                xytext=data[i+len(data)//2],\n",
        "                arrowprops=dict(arrowstyle=\"->\",\n",
        "                                connectionstyle=\"arc3\")\n",
        "        )"
      ],
      "metadata": {
        "id": "NxwIjyfx_SGx"
      },
      "execution_count": 72,
      "outputs": []
    },
    {
      "cell_type": "code",
      "source": [
        "labels = analogous + gen_words\n",
        "data = [vector_converter(w) for w in labels]"
      ],
      "metadata": {
        "id": "yrQu4VjCrLnX"
      },
      "execution_count": 73,
      "outputs": []
    },
    {
      "cell_type": "code",
      "source": [
        "plot_data(data, labels)\n",
        "plt.title('CNN')"
      ],
      "metadata": {
        "colab": {
          "base_uri": "https://localhost:8080/",
          "height": 477
        },
        "id": "_75sTn9IrRhf",
        "outputId": "01199a88-8748-40c6-c3b8-9d538d189eaf"
      },
      "execution_count": 74,
      "outputs": [
        {
          "output_type": "execute_result",
          "data": {
            "text/plain": [
              "Text(0.5, 1.0, 'CNN')"
            ]
          },
          "metadata": {},
          "execution_count": 74
        },
        {
          "output_type": "display_data",
          "data": {
            "text/plain": [
              "<Figure size 700x500 with 1 Axes>"
            ],
            "image/png": "[encoded data removed]"
          },
          "metadata": {
            "needs_background": "light"
          }
        }
      ]
    },
    {
      "cell_type": "code",
      "source": [
        "gender_pairs = [\n",
        "    (\"she\", \"he\"),\n",
        "    (\"her\", \"his\"),\n",
        "    (\"woman\", \"man\"),\n",
        "    (\"herself\", \"himself\"),\n",
        "    (\"daughter\", \"son\"),\n",
        "    (\"mother\", \"father\"),\n",
        "    (\"girl\", \"boy\"),\n",
        "]\n",
        "male_words = [\"he\",\"his\",\"man\",\"himself\",\"son\",\"father\",\"boy\"]\n",
        "female_words = [\"she\",\"her\",\"woman\",\"herself\",\"daughter\",\"mother\",\"girl\"]"
      ],
      "metadata": {
        "id": "vJ0eqoqPZpiC"
      },
      "execution_count": 75,
      "outputs": []
    },
    {
      "cell_type": "code",
      "source": [
        "gender_vectors = [\n",
        "  vector_converter(pair[0]) - vector_converter(pair[1])\n",
        "  for pair in gender_pairs\n",
        "]\n",
        "gender_vector = np.mean(gender_vectors, axis=0)"
      ],
      "metadata": {
        "id": "G34cRXUEZtbS"
      },
      "execution_count": 76,
      "outputs": []
    },
    {
      "cell_type": "code",
      "source": [
        "male_projections = [np.dot(vector_converter(word), gender_vector) for word in male_words]\n",
        "female_projections = [np.dot(vector_converter(word), gender_vector) for word in female_words]\n",
        "\n",
        "mean_male_projection = np.mean(male_projections)\n",
        "mean_female_projection = np.mean(female_projections)"
      ],
      "metadata": {
        "id": "r6jUdxT1Z664"
      },
      "execution_count": 77,
      "outputs": []
    },
    {
      "cell_type": "code",
      "source": [
        "def word_bias(test_word):\n",
        "  test_word_projection = np.dot(vector_converter(test_word), gender_vector)\n",
        "  mean_projection = (mean_male_projection + mean_female_projection) / 2\n",
        "  test_word_score = 2 * (test_word_projection - mean_projection) / (mean_female_projection - mean_male_projection)\n",
        "  return test_word_score  "
      ],
      "metadata": {
        "id": "jIfCq9lFTcLN"
      },
      "execution_count": 78,
      "outputs": []
    },
    {
      "cell_type": "code",
      "source": [
        "fem = []\n",
        "male = []\n",
        "for i in range(len(words)):\n",
        "  if word_bias(words[i]) > 0:\n",
        "    fem.append(i)\n",
        "  else:\n",
        "    male.append(i)"
      ],
      "metadata": {
        "id": "X7-BdN5pT5cZ"
      },
      "execution_count": 79,
      "outputs": []
    }
  ],
  "metadata": {
    "colab": {
      "provenance": [],
      "authorship_tag": "ABX9TyMUbbVFlup/rodiIwfHvi/p",
      "include_colab_link": true
    },
    "gpuClass": "standard",
    "kernelspec": {
      "display_name": "Python 3",
      "name": "python3"
    },
    "language_info": {
      "name": "python"
    }
  },
  "nbformat": 4,
  "nbformat_minor": 0
}