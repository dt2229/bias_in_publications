{
  "cells": [
    {
      "cell_type": "markdown",
      "metadata": {
        "id": "view-in-github",
        "colab_type": "text"
      },
      "source": [
        "<a href=\"https://colab.research.google.com/github/dt2229/bias_in_publications/blob/bhavna/Glove.ipynb\" target=\"_parent\"><img src=\"https://colab.research.google.com/assets/colab-badge.svg\" alt=\"Open In Colab\"/></a>"
      ]
    },
    {
      "cell_type": "code",
      "execution_count": 3,
      "metadata": {
        "id": "K6hLWiK-x3D4"
      },
      "outputs": [],
      "source": [
        "import re\n",
        "import numpy as np\n",
        "import nltk\n",
        "from glove import Corpus, Glove\n",
        "from nltk.tokenize import sent_tokenize, word_tokenize\n",
        "from multiprocessing import Pool\n",
        "from scipy import spatial\n",
        "from matplotlib import pyplot as plt\n",
        "import pandas as pd"
      ]
    },
    {
      "cell_type": "code",
      "source": [
        "pip install glove_python_binary"
      ],
      "metadata": {
        "colab": {
          "base_uri": "https://localhost:8080/"
        },
        "id": "SQqQOBF5pCYJ",
        "outputId": "174c78bb-89b5-466f-b4e5-f8bce35a7ef1"
      },
      "execution_count": 2,
      "outputs": [
        {
          "output_type": "stream",
          "name": "stdout",
          "text": [
            "Looking in indexes: https://pypi.org/simple, https://us-python.pkg.dev/colab-wheels/public/simple/\n",
            "Collecting glove_python_binary\n",
            "  Downloading glove_python_binary-0.2.0-cp38-cp38-manylinux1_x86_64.whl (974 kB)\n",
            "\u001b[K     |████████████████████████████████| 974 kB 3.2 MB/s \n",
            "\u001b[?25hRequirement already satisfied: scipy in /usr/local/lib/python3.8/dist-packages (from glove_python_binary) (1.7.3)\n",
            "Requirement already satisfied: numpy in /usr/local/lib/python3.8/dist-packages (from glove_python_binary) (1.21.6)\n",
            "Installing collected packages: glove-python-binary\n",
            "Successfully installed glove-python-binary-0.2.0\n"
          ]
        }
      ]
    },
    {
      "cell_type": "code",
      "source": [
        "from google.colab import drive\n",
        "drive.mount('/content/drive')\n",
        "NYT_sample = open(\"/content/drive/My Drive/NLP Project Space/NYT.csv\")\n",
        "NYT = NYT_sample.read()\n",
        "Fox_sample = open(\"/content/drive/My Drive/NLP Project Space/Fox.csv\")\n",
        "Fox = Fox_sample.read()\n",
        "CNN_sample = open(\"/content/drive/My Drive/NLP Project Space/cnn.csv\")\n",
        "CNN = CNN_sample.read()"
      ],
      "metadata": {
        "id": "AwcVmdQ7hrBQ",
        "colab": {
          "base_uri": "https://localhost:8080/"
        },
        "outputId": "d8af1e47-e89d-4e4f-cd79-b8c7d90cef71"
      },
      "execution_count": 4,
      "outputs": [
        {
          "output_type": "stream",
          "name": "stdout",
          "text": [
            "Mounted at /content/drive\n"
          ]
        }
      ]
    },
    {
      "cell_type": "code",
      "source": [
        "nltk.download('punkt')\n",
        "n = NYT.replace(\"\\n\", \" \")\n",
        "NYT_data = []\n",
        "for i in sent_tokenize(n):\n",
        "    temp = []\n",
        "    for j in word_tokenize(i):\n",
        "        temp.append(j.lower())\n",
        "    NYT_data.append(temp)"
      ],
      "metadata": {
        "id": "7F0_Nxnch8yi",
        "colab": {
          "base_uri": "https://localhost:8080/"
        },
        "outputId": "e24b934b-6f4f-421b-c37a-2e3c450623fc"
      },
      "execution_count": 5,
      "outputs": [
        {
          "output_type": "stream",
          "name": "stderr",
          "text": [
            "[nltk_data] Downloading package punkt to /root/nltk_data...\n",
            "[nltk_data]   Unzipping tokenizers/punkt.zip.\n"
          ]
        }
      ]
    },
    {
      "cell_type": "code",
      "source": [
        "n = Fox.replace(\"\\n\", \" \")\n",
        "Fox_data = []\n",
        "for i in sent_tokenize(n):\n",
        "    temp = []\n",
        "    for j in word_tokenize(i):\n",
        "        temp.append(j.lower())\n",
        "    Fox_data.append(temp)"
      ],
      "metadata": {
        "id": "EJzQPRjHq07y"
      },
      "execution_count": 6,
      "outputs": []
    },
    {
      "cell_type": "code",
      "source": [
        "n = CNN.replace(\"\\n\", \" \")\n",
        "CNN_data = []\n",
        "for i in sent_tokenize(n):\n",
        "    temp = []\n",
        "    for j in word_tokenize(i):\n",
        "        temp.append(j.lower())\n",
        "    CNN_data.append(temp)"
      ],
      "metadata": {
        "id": "zXZLzW5z6raU"
      },
      "execution_count": 7,
      "outputs": []
    },
    {
      "cell_type": "code",
      "source": [
        "for i in range(len(NYT_data)):\n",
        "    NYT_data[i] = [word.lower() for word in NYT_data[i] if re.match('^[a-zA-Z]+', word)]  "
      ],
      "metadata": {
        "id": "JVd7aUTTphW_"
      },
      "execution_count": 8,
      "outputs": []
    },
    {
      "cell_type": "code",
      "source": [
        "for i in range(len(Fox_data)):\n",
        "    Fox_data[i] = [word.lower() for word in Fox_data[i] if re.match('^[a-zA-Z]+', word)]  "
      ],
      "metadata": {
        "id": "E0MF0ssiq_f5"
      },
      "execution_count": 9,
      "outputs": []
    },
    {
      "cell_type": "code",
      "source": [
        "for i in range(len(CNN_data)):\n",
        "    CNN_data[i] = [word.lower() for word in CNN_data[i] if re.match('^[a-zA-Z]+', word)]  "
      ],
      "metadata": {
        "id": "snmwgNIo7Kwl"
      },
      "execution_count": 10,
      "outputs": []
    },
    {
      "cell_type": "code",
      "source": [
        "corpus = Corpus()\n",
        "corpus.fit(Fox_data, window = 3)\n",
        "glove = Glove(no_components = 100, learning_rate = 0.1)\n",
        "glove.fit(matrix = corpus.matrix, epochs = 30, no_threads = Pool()._processes, verbose = True)"
      ],
      "metadata": {
        "colab": {
          "base_uri": "https://localhost:8080/"
        },
        "id": "LmXKif8fpxC-",
        "outputId": "9f05653e-2b1c-48a2-9c22-c56a93ed0f92"
      },
      "execution_count": 11,
      "outputs": [
        {
          "output_type": "stream",
          "name": "stdout",
          "text": [
            "Performing 30 training epochs with 2 threads\n",
            "Epoch 0\n",
            "Epoch 1\n",
            "Epoch 2\n",
            "Epoch 3\n",
            "Epoch 4\n",
            "Epoch 5\n",
            "Epoch 6\n",
            "Epoch 7\n",
            "Epoch 8\n",
            "Epoch 9\n",
            "Epoch 10\n",
            "Epoch 11\n",
            "Epoch 12\n",
            "Epoch 13\n",
            "Epoch 14\n",
            "Epoch 15\n",
            "Epoch 16\n",
            "Epoch 17\n",
            "Epoch 18\n",
            "Epoch 19\n",
            "Epoch 20\n",
            "Epoch 21\n",
            "Epoch 22\n",
            "Epoch 23\n",
            "Epoch 24\n",
            "Epoch 25\n",
            "Epoch 26\n",
            "Epoch 27\n",
            "Epoch 28\n",
            "Epoch 29\n"
          ]
        }
      ]
    },
    {
      "cell_type": "code",
      "source": [
        "glove.add_dictionary(corpus.dictionary)"
      ],
      "metadata": {
        "id": "to644RBPqDln"
      },
      "execution_count": 12,
      "outputs": []
    },
    {
      "cell_type": "code",
      "source": [
        "glove.save('glove_model')"
      ],
      "metadata": {
        "id": "tkNNGzd0qIXp"
      },
      "execution_count": 13,
      "outputs": []
    },
    {
      "cell_type": "code",
      "source": [
        "glove.load('glove_model')"
      ],
      "metadata": {
        "colab": {
          "base_uri": "https://localhost:8080/"
        },
        "id": "GlZlq7QfqJiP",
        "outputId": "98b21e47-a667-4fcc-e54f-b41bad84aee1"
      },
      "execution_count": 14,
      "outputs": [
        {
          "output_type": "execute_result",
          "data": {
            "text/plain": [
              "<glove.glove.Glove at 0x7f81df6eb370>"
            ]
          },
          "metadata": {},
          "execution_count": 14
        }
      ]
    },
    {
      "cell_type": "code",
      "source": [
        "import random\n",
        "from random import randint\n",
        "import math\n",
        "import pandas as pd\n",
        "import numpy as np\n",
        "import matplotlib.pyplot as plt\n",
        "import seaborn as sns\n",
        "import pandas_profiling as pp\n",
        "from sklearn.model_selection import train_test_split # Import train_test_split function\n",
        "from sklearn import metrics #Import scikit-learn metrics module for accuracy calculation\n",
        "from sklearn.decomposition import PCA"
      ],
      "metadata": {
        "id": "VHembkEXBMy2"
      },
      "execution_count": 15,
      "outputs": []
    },
    {
      "cell_type": "code",
      "source": [
        "woman_sim = glove.most_similar('woman', number = 50)\n",
        "man_sim = glove.most_similar('man', number = 50)\n",
        "df = pd.DataFrame(woman_sim)\n",
        "#df.head(4)"
      ],
      "metadata": {
        "id": "k0FR-sYEqNwK"
      },
      "execution_count": 107,
      "outputs": []
    },
    {
      "cell_type": "code",
      "source": [
        "def vector_converter(word):\n",
        "    idx = glove.dictionary[word]\n",
        "    return glove.word_vectors[idx]"
      ],
      "metadata": {
        "id": "qgsv6NX5rQIZ"
      },
      "execution_count": 17,
      "outputs": []
    },
    {
      "cell_type": "code",
      "source": [
        "def cosine_similarity(v1, v2):\n",
        "    return 1 - spatial.distance.cosine(v1, v2)"
      ],
      "metadata": {
        "id": "srJZmW2YrRdy"
      },
      "execution_count": 18,
      "outputs": []
    },
    {
      "cell_type": "code",
      "source": [
        "def pair_sim(pair):\n",
        "  v1 = vector_converter(pair[0])\n",
        "  v2 = vector_converter(pair[1])\n",
        "  sim = cosine_similarity(v1,v2)\n",
        "  return sim"
      ],
      "metadata": {
        "id": "kFeZ_hACOsVW"
      },
      "execution_count": 19,
      "outputs": []
    },
    {
      "cell_type": "code",
      "source": [
        "v1 = vector_converter('woman')\n",
        "v2 = vector_converter('man')\n",
        "cosine_similarity(v1, v2)"
      ],
      "metadata": {
        "colab": {
          "base_uri": "https://localhost:8080/"
        },
        "id": "Oozvx5h0rW8o",
        "outputId": "84713d0f-9e02-4bc0-ef0b-f4a18474c294"
      },
      "execution_count": 20,
      "outputs": [
        {
          "output_type": "execute_result",
          "data": {
            "text/plain": [
              "0.9139835568483821"
            ]
          },
          "metadata": {},
          "execution_count": 20
        }
      ]
    },
    {
      "cell_type": "code",
      "source": [
        "def glove_analogy(word_a, word_b, word_c):\n",
        "    \"\"\"\n",
        "    Performs the word analogy task as explained above: a is to b as c is to ____. \n",
        "    \n",
        "    Arguments:\n",
        "    word_a -- a word, string\n",
        "    word_b -- a word, string\n",
        "    word_c -- a word, string\n",
        "    word_to_vec_map -- dictionary that maps words to their corresponding vectors. \n",
        "    \n",
        "    Returns:\n",
        "    best_word --  the word such that v_b - v_a is close to v_best_word - v_c, as measured by cosine similarity\n",
        "    \"\"\"\n",
        "    \n",
        "    word_a, word_b, word_c = word_a.lower(), word_b.lower(), word_c.lower()\n",
        "    \n",
        "    e_a, e_b, e_c = vector_converter(word_a), vector_converter(word_b), vector_converter(word_c)\n",
        "    \n",
        "    words = corpus.dictionary\n",
        "    max_cosine_sim = -100              \n",
        "    best_word = None                   \n",
        "    for w in words:        \n",
        "        if w in [word_a, word_b, word_c] :\n",
        "            continue\n",
        "        \n",
        " \n",
        "        cosine_sim = cosine_similarity(e_b - e_a, vector_converter(w) - e_c)\n",
        "        \n",
        " \n",
        "        if cosine_sim > max_cosine_sim:\n",
        "            max_cosine_sim = cosine_sim\n",
        "            best_word = w\n",
        "        \n",
        "    return best_word"
      ],
      "metadata": {
        "id": "b3Ksz_nEKGVO"
      },
      "execution_count": 21,
      "outputs": []
    },
    {
      "cell_type": "code",
      "source": [
        "triad=['woman', 'love', 'man']\n",
        "print ('{} -> {} : {} -> {}'.format(triad[0],triad[1],triad[2], glove_analogy(triad[0],triad[1],triad[2])))"
      ],
      "metadata": {
        "colab": {
          "base_uri": "https://localhost:8080/"
        },
        "id": "StJgI-CCLsUG",
        "outputId": "8736fb8c-7876-472d-fb35-128ddb1eb9ff"
      },
      "execution_count": 27,
      "outputs": [
        {
          "output_type": "stream",
          "name": "stdout",
          "text": [
            "woman -> love : man -> make\n"
          ]
        }
      ]
    },
    {
      "cell_type": "code",
      "source": [
        "pip install TSNE"
      ],
      "metadata": {
        "colab": {
          "base_uri": "https://localhost:8080/"
        },
        "id": "2JWB98oCgcNp",
        "outputId": "f91c102b-db93-445f-e939-46b62ef56bbd"
      },
      "execution_count": 42,
      "outputs": [
        {
          "output_type": "stream",
          "name": "stdout",
          "text": [
            "Looking in indexes: https://pypi.org/simple, https://us-python.pkg.dev/colab-wheels/public/simple/\n",
            "Collecting TSNE\n",
            "  Downloading tsne-0.3.1.tar.gz (547 kB)\n",
            "\u001b[K     |████████████████████████████████| 547 kB 7.4 MB/s \n",
            "\u001b[?25h  Installing build dependencies ... \u001b[?25l\u001b[?25hdone\n",
            "  Getting requirements to build wheel ... \u001b[?25l\u001b[?25hdone\n",
            "    Preparing wheel metadata ... \u001b[?25l\u001b[?25hdone\n",
            "Requirement already satisfied: scipy>=0.12.0 in /usr/local/lib/python3.8/dist-packages (from TSNE) (1.7.3)\n",
            "Requirement already satisfied: numpy>=1.7.1 in /usr/local/lib/python3.8/dist-packages (from TSNE) (1.21.6)\n",
            "Requirement already satisfied: cython>=0.19.1 in /usr/local/lib/python3.8/dist-packages (from TSNE) (0.29.32)\n",
            "Building wheels for collected packages: TSNE\n",
            "  Building wheel for TSNE (PEP 517) ... \u001b[?25l\u001b[?25hdone\n",
            "  Created wheel for TSNE: filename=tsne-0.3.1-cp38-cp38-linux_x86_64.whl size=266977 sha256=97482130a67a138ecb17ee013e71e6bb8744a747cba4d6fa2e449dff8b2ad911\n",
            "  Stored in directory: /root/.cache/pip/wheels/ea/70/92/ebfbfd78f6757150d590c73fb65e8a14c5e0ee58f8c1f0654f\n",
            "Successfully built TSNE\n",
            "Installing collected packages: TSNE\n",
            "Successfully installed TSNE-0.3.1\n"
          ]
        }
      ]
    },
    {
      "cell_type": "code",
      "source": [
        "from scipy import spatial\n",
        "import matplotlib.pyplot as plt\n",
        "from sklearn.manifold import TSNE\n",
        "tsne = TSNE(n_components=2, random_state=0)"
      ],
      "metadata": {
        "id": "uS83C0YQgav9"
      },
      "execution_count": 43,
      "outputs": []
    },
    {
      "cell_type": "code",
      "source": [
        "import nltk\n",
        "from nltk.corpus import stopwords\n",
        "nltk.download('stopwords')\n",
        "words =  list(corpus.dictionary.keys())\n",
        "words_no_sw = [word for word in words if not word in stopwords.words()]\n",
        "vectors = [vector_converter(word) for word in words_no_sw]"
      ],
      "metadata": {
        "colab": {
          "base_uri": "https://localhost:8080/"
        },
        "id": "S_6K_8N1hIrR",
        "outputId": "cf30fe36-6283-43c0-f5a8-0bfd15137ca9"
      },
      "execution_count": 117,
      "outputs": [
        {
          "output_type": "stream",
          "name": "stderr",
          "text": [
            "[nltk_data] Downloading package stopwords to /root/nltk_data...\n",
            "[nltk_data]   Package stopwords is already up-to-date!\n"
          ]
        }
      ]
    },
    {
      "cell_type": "code",
      "source": [
        "len(vectors)"
      ],
      "metadata": {
        "colab": {
          "base_uri": "https://localhost:8080/"
        },
        "id": "9wYSQHQKhuSw",
        "outputId": "f8e6cc07-8ade-4971-b634-a1a0a8f1eecf"
      },
      "execution_count": 118,
      "outputs": [
        {
          "output_type": "execute_result",
          "data": {
            "text/plain": [
              "4200"
            ]
          },
          "metadata": {},
          "execution_count": 118
        }
      ]
    },
    {
      "cell_type": "code",
      "source": [
        "Y = tsne.fit_transform(vectors[:15])\n",
        "plt.scatter(Y[:, 0], Y[:, 1])\n",
        "for label, x, y in zip(words, Y[:, 0], Y[:, 1]):\n",
        "    plt.annotate(label, xy=(x, y), xytext=(0, 0), textcoords=\"offset points\")"
      ],
      "metadata": {
        "colab": {
          "base_uri": "https://localhost:8080/",
          "height": 353
        },
        "id": "sgnsLDlfhjPL",
        "outputId": "ce29d3f5-b6e8-4258-d33d-a8b2db789a00"
      },
      "execution_count": 119,
      "outputs": [
        {
          "output_type": "stream",
          "name": "stderr",
          "text": [
            "/usr/local/lib/python3.8/dist-packages/sklearn/manifold/_t_sne.py:780: FutureWarning: The default initialization in TSNE will change from 'random' to 'pca' in 1.2.\n",
            "  warnings.warn(\n",
            "/usr/local/lib/python3.8/dist-packages/sklearn/manifold/_t_sne.py:790: FutureWarning: The default learning rate in TSNE will change from 200.0 to 'auto' in 1.2.\n",
            "  warnings.warn(\n"
          ]
        },
        {
          "output_type": "display_data",
          "data": {
            "text/plain": [
              "<Figure size 432x288 with 1 Axes>"
            ],
            "image/png": "[encoded data removed]"
          },
          "metadata": {
            "needs_background": "light"
          }
        }
      ]
    },
    {
      "cell_type": "code",
      "source": [
        "from sklearn.decomposition import PCA\n",
        "\n",
        "def plot_data(orig_data, labels):\n",
        "    pca = PCA(n_components=2)\n",
        "    data = pca.fit_transform(orig_data)\n",
        "    plt.figure(figsize=(7, 5), dpi=100)\n",
        "    plt.plot(data[:,0], data[:,1], '.')\n",
        "    for i in range(len(data)):\n",
        "        plt.annotate(labels[i], xy = data[i])\n",
        "    for i in range(len(data)//2):\n",
        "        plt.annotate(\"\",\n",
        "                xy=data[i],\n",
        "                xytext=data[i+len(data)//2],\n",
        "                arrowprops=dict(arrowstyle=\"->\",\n",
        "                                connectionstyle=\"arc3\")\n",
        "        )"
      ],
      "metadata": {
        "id": "oo46XS1SQ7B-"
      },
      "execution_count": 38,
      "outputs": []
    },
    {
      "cell_type": "code",
      "source": [
        "labels = gendered_stuff + occupations\n",
        "data = [model_cbow_Fox[w] for w in labels]\n",
        "plot_data(data, labels)"
      ],
      "metadata": {
        "id": "bOxxB_repJQP"
      },
      "execution_count": null,
      "outputs": []
    },
    {
      "cell_type": "code",
      "source": [
        "simlex999 = pd.read_csv(\"/content/drive/My Drive/NLP Project Space/simlex999.csv\").iloc[:,0:3]\n",
        "simlex999.head(10)"
      ],
      "metadata": {
        "colab": {
          "base_uri": "https://localhost:8080/",
          "height": 359
        },
        "id": "A48CNXnVQ_2Z",
        "outputId": "42929c3a-dd94-436c-f0f3-425aac4522ed"
      },
      "execution_count": 95,
      "outputs": [
        {
          "output_type": "execute_result",
          "data": {
            "text/plain": [
              "   word 1       word 2     score\n",
              "0     old          new  0.000000\n",
              "1   smart  intelligent  9.769231\n",
              "2    hard    difficult  9.692308\n",
              "3   happy     cheerful  9.307692\n",
              "4    hard         easy  0.000000\n",
              "5    fast        rapid  9.846154\n",
              "6   happy         glad  9.384615\n",
              "7   short         long  0.000000\n",
              "8  stupid         dumb  9.076923\n",
              "9   weird      strange  9.692308"
            ],
            "text/html": [
              "\n",
              "  <div id=\"df-648eae56-c8df-4719-bdf8-3fad1787ccce\">\n",
              "    <div class=\"colab-df-container\">\n",
              "      <div>\n",
              "<style scoped>\n",
              "    .dataframe tbody tr th:only-of-type {\n",
              "        vertical-align: middle;\n",
              "    }\n",
              "\n",
              "    .dataframe tbody tr th {\n",
              "        vertical-align: top;\n",
              "    }\n",
              "\n",
              "    .dataframe thead th {\n",
              "        text-align: right;\n",
              "    }\n",
              "</style>\n",
              "<table border=\"1\" class=\"dataframe\">\n",
              "  <thead>\n",
              "    <tr style=\"text-align: right;\">\n",
              "      <th></th>\n",
              "      <th>word 1</th>\n",
              "      <th>word 2</th>\n",
              "      <th>score</th>\n",
              "    </tr>\n",
              "  </thead>\n",
              "  <tbody>\n",
              "    <tr>\n",
              "      <th>0</th>\n",
              "      <td>old</td>\n",
              "      <td>new</td>\n",
              "      <td>0.000000</td>\n",
              "    </tr>\n",
              "    <tr>\n",
              "      <th>1</th>\n",
              "      <td>smart</td>\n",
              "      <td>intelligent</td>\n",
              "      <td>9.769231</td>\n",
              "    </tr>\n",
              "    <tr>\n",
              "      <th>2</th>\n",
              "      <td>hard</td>\n",
              "      <td>difficult</td>\n",
              "      <td>9.692308</td>\n",
              "    </tr>\n",
              "    <tr>\n",
              "      <th>3</th>\n",
              "      <td>happy</td>\n",
              "      <td>cheerful</td>\n",
              "      <td>9.307692</td>\n",
              "    </tr>\n",
              "    <tr>\n",
              "      <th>4</th>\n",
              "      <td>hard</td>\n",
              "      <td>easy</td>\n",
              "      <td>0.000000</td>\n",
              "    </tr>\n",
              "    <tr>\n",
              "      <th>5</th>\n",
              "      <td>fast</td>\n",
              "      <td>rapid</td>\n",
              "      <td>9.846154</td>\n",
              "    </tr>\n",
              "    <tr>\n",
              "      <th>6</th>\n",
              "      <td>happy</td>\n",
              "      <td>glad</td>\n",
              "      <td>9.384615</td>\n",
              "    </tr>\n",
              "    <tr>\n",
              "      <th>7</th>\n",
              "      <td>short</td>\n",
              "      <td>long</td>\n",
              "      <td>0.000000</td>\n",
              "    </tr>\n",
              "    <tr>\n",
              "      <th>8</th>\n",
              "      <td>stupid</td>\n",
              "      <td>dumb</td>\n",
              "      <td>9.076923</td>\n",
              "    </tr>\n",
              "    <tr>\n",
              "      <th>9</th>\n",
              "      <td>weird</td>\n",
              "      <td>strange</td>\n",
              "      <td>9.692308</td>\n",
              "    </tr>\n",
              "  </tbody>\n",
              "</table>\n",
              "</div>\n",
              "      <button class=\"colab-df-convert\" onclick=\"convertToInteractive('df-648eae56-c8df-4719-bdf8-3fad1787ccce')\"\n",
              "              title=\"Convert this dataframe to an interactive table.\"\n",
              "              style=\"display:none;\">\n",
              "        \n",
              "  <svg xmlns=\"http://www.w3.org/2000/svg\" height=\"24px\"viewBox=\"0 0 24 24\"\n",
              "       width=\"24px\">\n",
              "    <path d=\"M0 0h24v24H0V0z\" fill=\"none\"/>\n",
              "    <path d=\"M18.56 5.44l.94 2.06.94-2.06 2.06-.94-2.06-.94-.94-2.06-.94 2.06-2.06.94zm-11 1L8.5 8.5l.94-2.06 2.06-.94-2.06-.94L8.5 2.5l-.94 2.06-2.06.94zm10 10l.94 2.06.94-2.06 2.06-.94-2.06-.94-.94-2.06-.94 2.06-2.06.94z\"/><path d=\"M17.41 7.96l-1.37-1.37c-.4-.4-.92-.59-1.43-.59-.52 0-1.04.2-1.43.59L10.3 9.45l-7.72 7.72c-.78.78-.78 2.05 0 2.83L4 21.41c.39.39.9.59 1.41.59.51 0 1.02-.2 1.41-.59l7.78-7.78 2.81-2.81c.8-.78.8-2.07 0-2.86zM5.41 20L4 18.59l7.72-7.72 1.47 1.35L5.41 20z\"/>\n",
              "  </svg>\n",
              "      </button>\n",
              "      \n",
              "  <style>\n",
              "    .colab-df-container {\n",
              "      display:flex;\n",
              "      flex-wrap:wrap;\n",
              "      gap: 12px;\n",
              "    }\n",
              "\n",
              "    .colab-df-convert {\n",
              "      background-color: #E8F0FE;\n",
              "      border: none;\n",
              "      border-radius: 50%;\n",
              "      cursor: pointer;\n",
              "      display: none;\n",
              "      fill: #1967D2;\n",
              "      height: 32px;\n",
              "      padding: 0 0 0 0;\n",
              "      width: 32px;\n",
              "    }\n",
              "\n",
              "    .colab-df-convert:hover {\n",
              "      background-color: #E2EBFA;\n",
              "      box-shadow: 0px 1px 2px rgba(60, 64, 67, 0.3), 0px 1px 3px 1px rgba(60, 64, 67, 0.15);\n",
              "      fill: #174EA6;\n",
              "    }\n",
              "\n",
              "    [theme=dark] .colab-df-convert {\n",
              "      background-color: #3B4455;\n",
              "      fill: #D2E3FC;\n",
              "    }\n",
              "\n",
              "    [theme=dark] .colab-df-convert:hover {\n",
              "      background-color: #434B5C;\n",
              "      box-shadow: 0px 1px 3px 1px rgba(0, 0, 0, 0.15);\n",
              "      filter: drop-shadow(0px 1px 2px rgba(0, 0, 0, 0.3));\n",
              "      fill: #FFFFFF;\n",
              "    }\n",
              "  </style>\n",
              "\n",
              "      <script>\n",
              "        const buttonEl =\n",
              "          document.querySelector('#df-648eae56-c8df-4719-bdf8-3fad1787ccce button.colab-df-convert');\n",
              "        buttonEl.style.display =\n",
              "          google.colab.kernel.accessAllowed ? 'block' : 'none';\n",
              "\n",
              "        async function convertToInteractive(key) {\n",
              "          const element = document.querySelector('#df-648eae56-c8df-4719-bdf8-3fad1787ccce');\n",
              "          const dataTable =\n",
              "            await google.colab.kernel.invokeFunction('convertToInteractive',\n",
              "                                                     [key], {});\n",
              "          if (!dataTable) return;\n",
              "\n",
              "          const docLinkHtml = 'Like what you see? Visit the ' +\n",
              "            '<a target=\"_blank\" href=https://colab.research.google.com/notebooks/data_table.ipynb>data table notebook</a>'\n",
              "            + ' to learn more about interactive tables.';\n",
              "          element.innerHTML = '';\n",
              "          dataTable['output_type'] = 'display_data';\n",
              "          await google.colab.output.renderOutput(dataTable, element);\n",
              "          const docLink = document.createElement('div');\n",
              "          docLink.innerHTML = docLinkHtml;\n",
              "          element.appendChild(docLink);\n",
              "        }\n",
              "      </script>\n",
              "    </div>\n",
              "  </div>\n",
              "  "
            ]
          },
          "metadata": {},
          "execution_count": 95
        }
      ]
    },
    {
      "cell_type": "code",
      "source": [
        "pair_sim(['hard','easy'])"
      ],
      "metadata": {
        "colab": {
          "base_uri": "https://localhost:8080/"
        },
        "id": "JF89QWyFo7k0",
        "outputId": "e81af809-9fd6-47dd-f77e-d4d8d9280d1f"
      },
      "execution_count": 101,
      "outputs": [
        {
          "output_type": "execute_result",
          "data": {
            "text/plain": [
              "0.5572858736983871"
            ]
          },
          "metadata": {},
          "execution_count": 101
        }
      ]
    },
    {
      "cell_type": "code",
      "source": [
        "pip install wordcloud"
      ],
      "metadata": {
        "colab": {
          "base_uri": "https://localhost:8080/"
        },
        "id": "yaSuJcaP72U_",
        "outputId": "37ca6628-6b94-458b-fad5-cfe3304f4a81"
      },
      "execution_count": 26,
      "outputs": [
        {
          "output_type": "stream",
          "name": "stdout",
          "text": [
            "Looking in indexes: https://pypi.org/simple, https://us-python.pkg.dev/colab-wheels/public/simple/\n",
            "Requirement already satisfied: wordcloud in /usr/local/lib/python3.8/dist-packages (1.8.2.2)\n",
            "Requirement already satisfied: pillow in /usr/local/lib/python3.8/dist-packages (from wordcloud) (7.1.2)\n",
            "Requirement already satisfied: numpy>=1.6.1 in /usr/local/lib/python3.8/dist-packages (from wordcloud) (1.21.6)\n",
            "Requirement already satisfied: matplotlib in /usr/local/lib/python3.8/dist-packages (from wordcloud) (3.2.2)\n",
            "Requirement already satisfied: kiwisolver>=1.0.1 in /usr/local/lib/python3.8/dist-packages (from matplotlib->wordcloud) (1.4.4)\n",
            "Requirement already satisfied: python-dateutil>=2.1 in /usr/local/lib/python3.8/dist-packages (from matplotlib->wordcloud) (2.8.2)\n",
            "Requirement already satisfied: cycler>=0.10 in /usr/local/lib/python3.8/dist-packages (from matplotlib->wordcloud) (0.11.0)\n",
            "Requirement already satisfied: pyparsing!=2.0.4,!=2.1.2,!=2.1.6,>=2.0.1 in /usr/local/lib/python3.8/dist-packages (from matplotlib->wordcloud) (3.0.9)\n",
            "Requirement already satisfied: six>=1.5 in /usr/local/lib/python3.8/dist-packages (from python-dateutil>=2.1->matplotlib->wordcloud) (1.15.0)\n"
          ]
        }
      ]
    },
    {
      "cell_type": "code",
      "source": [
        "from wordcloud import WordCloud, STOPWORDS, ImageColorGenerator\n",
        "def cloud(c):\n",
        "  wordcloud = WordCloud(max_font_size=50, max_words=100,collocations=False).generate_from_frequencies(c)\n",
        "  plt.figure()\n",
        "  plt.imshow(wordcloud, interpolation='bilinear')\n",
        "  plt.axis('off')\n",
        "  plt.show()"
      ],
      "metadata": {
        "id": "53mP7EKEJUBB"
      },
      "execution_count": 175,
      "outputs": []
    },
    {
      "cell_type": "code",
      "source": [
        "words=dict(man_sim)\n",
        "cloud(words)"
      ],
      "metadata": {
        "colab": {
          "base_uri": "https://localhost:8080/",
          "height": 198
        },
        "id": "kjSDbPjq6wij",
        "outputId": "145d710c-f93c-4883-c2c2-c3579496f6ac"
      },
      "execution_count": 176,
      "outputs": [
        {
          "output_type": "display_data",
          "data": {
            "text/plain": [
              "<Figure size 432x288 with 1 Axes>"
            ],
            "image/png": "[encoded data removed]"
          },
          "metadata": {
            "needs_background": "light"
          }
        }
      ]
    },
    {
      "cell_type": "code",
      "source": [],
      "metadata": {
        "id": "NxwIjyfx_SGx"
      },
      "execution_count": null,
      "outputs": []
    }
  ],
  "metadata": {
    "colab": {
      "provenance": [],
      "authorship_tag": "ABX9TyMartZqU38+3ny8NiFpKF8x",
      "include_colab_link": true
    },
    "gpuClass": "standard",
    "kernelspec": {
      "display_name": "Python 3",
      "name": "python3"
    },
    "language_info": {
      "name": "python"
    }
  },
  "nbformat": 4,
  "nbformat_minor": 0
}