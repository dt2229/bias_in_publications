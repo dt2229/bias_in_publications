{
  "cells": [
    {
      "cell_type": "markdown",
      "metadata": {
        "id": "view-in-github",
        "colab_type": "text"
      },
      "source": [
        "<a href=\"https://colab.research.google.com/github/dt2229/bias_in_publications/blob/bhavna/Glove.ipynb\" target=\"_parent\"><img src=\"https://colab.research.google.com/assets/colab-badge.svg\" alt=\"Open In Colab\"/></a>"
      ]
    },
    {
      "cell_type": "code",
      "execution_count": null,
      "metadata": {
        "id": "K6hLWiK-x3D4"
      },
      "outputs": [],
      "source": [
        "import re\n",
        "import numpy as np\n",
        "import nltk\n",
        "from glove import Corpus, Glove\n",
        "from nltk.tokenize import sent_tokenize, word_tokenize\n",
        "from multiprocessing import Pool\n",
        "from scipy import spatial"
      ]
    },
    {
      "cell_type": "code",
      "source": [
        "from google.colab import drive\n",
        "drive.mount('/content/drive')\n",
        "NYT_sample = open(\"/content/drive/My Drive/NLP Project Space/NYT.csv\")\n",
        "NYT = NYT_sample.read()\n",
        "Fox_sample = open(\"/content/drive/My Drive/NLP Project Space/Fox.csv\")\n",
        "Fox = Fox_sample.read()"
      ],
      "metadata": {
        "id": "AwcVmdQ7hrBQ",
        "colab": {
          "base_uri": "https://localhost:8080/"
        },
        "outputId": "46592970-d5c7-4697-9374-57f733de9c51"
      },
      "execution_count": null,
      "outputs": [
        {
          "output_type": "stream",
          "name": "stdout",
          "text": [
            "Drive already mounted at /content/drive; to attempt to forcibly remount, call drive.mount(\"/content/drive\", force_remount=True).\n"
          ]
        }
      ]
    },
    {
      "cell_type": "code",
      "source": [
        "n = NYT.replace(\"\\n\", \" \")\n",
        "NYT_data = []\n",
        "for i in sent_tokenize(n):\n",
        "    temp = []\n",
        "    for j in word_tokenize(i):\n",
        "        temp.append(j.lower())\n",
        "    NYT_data.append(temp)"
      ],
      "metadata": {
        "id": "7F0_Nxnch8yi"
      },
      "execution_count": null,
      "outputs": []
    },
    {
      "cell_type": "code",
      "source": [
        "n = Fox.replace(\"\\n\", \" \")\n",
        "Fox_data = []\n",
        "for i in sent_tokenize(n):\n",
        "    temp = []\n",
        "    for j in word_tokenize(i):\n",
        "        temp.append(j.lower())\n",
        "    Fox_data.append(temp)"
      ],
      "metadata": {
        "id": "EJzQPRjHq07y"
      },
      "execution_count": null,
      "outputs": []
    },
    {
      "cell_type": "code",
      "source": [
        "for i in range(len(NYT_data)):\n",
        "    NYT_data[i] = [word.lower() for word in NYT_data[i] if re.match('^[a-zA-Z]+', word)]  "
      ],
      "metadata": {
        "id": "JVd7aUTTphW_"
      },
      "execution_count": null,
      "outputs": []
    },
    {
      "cell_type": "code",
      "source": [
        "for i in range(len(Fox_data)):\n",
        "    Fox_data[i] = [word.lower() for word in Fox_data[i] if re.match('^[a-zA-Z]+', word)]  "
      ],
      "metadata": {
        "id": "E0MF0ssiq_f5"
      },
      "execution_count": null,
      "outputs": []
    },
    {
      "cell_type": "code",
      "source": [
        "corpus = Corpus()\n",
        "corpus.fit(NYT_data, window = 3)\n",
        "glove = Glove(no_components = 100, learning_rate = 0.05)\n",
        "glove.fit(matrix = corpus.matrix, epochs = 30, no_threads = Pool()._processes, verbose = True)"
      ],
      "metadata": {
        "colab": {
          "base_uri": "https://localhost:8080/"
        },
        "id": "LmXKif8fpxC-",
        "outputId": "27f03a7d-12e0-4803-e0ec-3a2a6fe84419"
      },
      "execution_count": null,
      "outputs": [
        {
          "output_type": "stream",
          "name": "stdout",
          "text": [
            "Performing 30 training epochs with 2 threads\n",
            "Epoch 0\n",
            "Epoch 1\n",
            "Epoch 2\n",
            "Epoch 3\n",
            "Epoch 4\n",
            "Epoch 5\n",
            "Epoch 6\n",
            "Epoch 7\n",
            "Epoch 8\n",
            "Epoch 9\n",
            "Epoch 10\n",
            "Epoch 11\n",
            "Epoch 12\n",
            "Epoch 13\n",
            "Epoch 14\n",
            "Epoch 15\n",
            "Epoch 16\n",
            "Epoch 17\n",
            "Epoch 18\n",
            "Epoch 19\n",
            "Epoch 20\n",
            "Epoch 21\n",
            "Epoch 22\n",
            "Epoch 23\n",
            "Epoch 24\n",
            "Epoch 25\n",
            "Epoch 26\n",
            "Epoch 27\n",
            "Epoch 28\n",
            "Epoch 29\n"
          ]
        }
      ]
    },
    {
      "cell_type": "code",
      "source": [
        "glove.add_dictionary(corpus.dictionary)"
      ],
      "metadata": {
        "id": "to644RBPqDln"
      },
      "execution_count": null,
      "outputs": []
    },
    {
      "cell_type": "code",
      "source": [
        "glove.save('glove_model')"
      ],
      "metadata": {
        "id": "tkNNGzd0qIXp"
      },
      "execution_count": null,
      "outputs": []
    },
    {
      "cell_type": "code",
      "source": [
        "glove.load('glove_model')"
      ],
      "metadata": {
        "colab": {
          "base_uri": "https://localhost:8080/"
        },
        "id": "GlZlq7QfqJiP",
        "outputId": "5e94ce48-118c-4b61-9c54-088216fb90cd"
      },
      "execution_count": null,
      "outputs": [
        {
          "output_type": "execute_result",
          "data": {
            "text/plain": [
              "<glove.glove.Glove at 0x7fcd5d2b49d0>"
            ]
          },
          "metadata": {},
          "execution_count": 64
        }
      ]
    },
    {
      "cell_type": "code",
      "source": [
        "glove.most_similar('man', number = 10)"
      ],
      "metadata": {
        "colab": {
          "base_uri": "https://localhost:8080/"
        },
        "id": "k0FR-sYEqNwK",
        "outputId": "35b032f0-3244-4a52-c7b5-9ddfa04b015f"
      },
      "execution_count": null,
      "outputs": [
        {
          "output_type": "execute_result",
          "data": {
            "text/plain": [
              "[('has', 0.8299638655022643),\n",
              " ('won', 0.8160669054514919),\n",
              " ('runoff', 0.8138979294942962),\n",
              " ('re-election', 0.8096867623537969),\n",
              " ('look', 0.8072195326288829),\n",
              " ('been', 0.8055946680620607),\n",
              " ('a', 0.805531274470542),\n",
              " ('great', 0.8049672063505076),\n",
              " ('few', 0.8028629686385168)]"
            ]
          },
          "metadata": {},
          "execution_count": 65
        }
      ]
    },
    {
      "cell_type": "code",
      "source": [
        "def vector_converter(word):\n",
        "    idx = glove.dictionary[word]\n",
        "    return glove.word_vectors[idx]"
      ],
      "metadata": {
        "id": "qgsv6NX5rQIZ"
      },
      "execution_count": null,
      "outputs": []
    },
    {
      "cell_type": "code",
      "source": [
        "def cosine_similarity(v1, v2):\n",
        "    return 1 - spatial.distance.cosine(v1, v2)"
      ],
      "metadata": {
        "id": "srJZmW2YrRdy"
      },
      "execution_count": null,
      "outputs": []
    },
    {
      "cell_type": "code",
      "source": [
        "v1 = vector_converter('man')\n",
        "v2 = vector_converter('senate')\n",
        "cosine_similarity(v1, v2)"
      ],
      "metadata": {
        "colab": {
          "base_uri": "https://localhost:8080/"
        },
        "id": "Oozvx5h0rW8o",
        "outputId": "c3ea91ce-03ca-41ed-bca5-32f117f04f66"
      },
      "execution_count": null,
      "outputs": [
        {
          "output_type": "execute_result",
          "data": {
            "text/plain": [
              "0.6699566884871981"
            ]
          },
          "metadata": {},
          "execution_count": 69
        }
      ]
    }
  ],
  "metadata": {
    "accelerator": "GPU",
    "colab": {
      "provenance": [],
      "authorship_tag": "ABX9TyOu+rExTCJVZ+yq7m9URbdP",
      "include_colab_link": true
    },
    "gpuClass": "standard",
    "kernelspec": {
      "display_name": "Python 3",
      "name": "python3"
    },
    "language_info": {
      "name": "python"
    }
  },
  "nbformat": 4,
  "nbformat_minor": 0
}