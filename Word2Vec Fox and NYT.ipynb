{
 "cells": [
  {
   "cell_type": "code",
   "execution_count": 2,
   "id": "84070672",
   "metadata": {},
   "outputs": [],
   "source": [
    "from nltk.tokenize import sent_tokenize, word_tokenize\n",
    "import warnings\n",
    "warnings.filterwarnings(action = 'ignore')\n",
    "import gensim\n",
    "from gensim.models import Word2Vec"
   ]
  },
  {
   "cell_type": "code",
   "execution_count": 3,
   "id": "3b574e5b",
   "metadata": {},
   "outputs": [
    {
     "name": "stderr",
     "output_type": "stream",
     "text": [
      "[nltk_data] Downloading package punkt to\n",
      "[nltk_data]     /Users/bhavnathakar/nltk_data...\n",
      "[nltk_data]   Package punkt is already up-to-date!\n"
     ]
    },
    {
     "data": {
      "text/plain": [
       "True"
      ]
     },
     "execution_count": 3,
     "metadata": {},
     "output_type": "execute_result"
    }
   ],
   "source": [
    "import nltk\n",
    "nltk.download('punkt')"
   ]
  },
  {
   "cell_type": "code",
   "execution_count": 18,
   "id": "aff068a1",
   "metadata": {},
   "outputs": [],
   "source": [
    "NYT_sample = open(\"NYT.csv\")\n",
    "Fox_sample = open(\"Fox.csv\")\n",
    "NYT = NYT_sample.read()\n",
    "Fox = Fox_sample.read()"
   ]
  },
  {
   "cell_type": "code",
   "execution_count": 19,
   "id": "ede8c3d8",
   "metadata": {},
   "outputs": [],
   "source": [
    "n = NYT.replace(\"\\n\", \" \")\n",
    "NYT_data = []\n",
    "# iterate through each sentence in the file\n",
    "for i in sent_tokenize(n):\n",
    "    temp = []\n",
    "    for j in word_tokenize(i):\n",
    "        temp.append(j.lower())\n",
    "    NYT_data.append(temp)\n",
    "f = Fox.replace(\"\\n\", \" \")\n",
    "Fox_data = []\n",
    "# iterate through each sentence in the file\n",
    "for i in sent_tokenize(f):\n",
    "    temp = []\n",
    "    for j in word_tokenize(i):\n",
    "        temp.append(j.lower())\n",
    "    Fox_data.append(temp)"
   ]
  },
  {
   "cell_type": "code",
   "execution_count": 22,
   "id": "d83c4ddc",
   "metadata": {},
   "outputs": [],
   "source": [
    "model_cbow_Fox = Word2Vec(Fox_data, min_count = 1, vector_size = 100, window = 5)\n",
    "model_cbow_NYT = Word2Vec(NYT_data, min_count = 1, vector_size = 100, window = 5)"
   ]
  },
  {
   "cell_type": "code",
   "execution_count": 28,
   "id": "2120e8a3",
   "metadata": {},
   "outputs": [
    {
     "name": "stdout",
     "output_type": "stream",
     "text": [
      "Cosine similarity between 'democrat' and 'republican' - CBOW_Fox :  0.9994862\n",
      "Cosine similarity between 'democrat' and 'republican' - CBOW_NYT :  0.9992913\n"
     ]
    }
   ],
   "source": [
    "print(\"Cosine similarity between 'democrat' \" + \"and 'republican' - CBOW_Fox : \",\n",
    "(model_cbow_Fox.wv.similarity('democrat', 'republican')))\n",
    "print(\"Cosine similarity between 'democrat' \" + \"and 'republican' - CBOW_NYT : \",\n",
    "(model_cbow_NYT.wv.similarity('democrat', 'republican')))"
   ]
  },
  {
   "cell_type": "code",
   "execution_count": 31,
   "id": "6c5584ac",
   "metadata": {},
   "outputs": [
    {
     "name": "stdout",
     "output_type": "stream",
     "text": [
      "Cosine similarity between 'man' and 'woman' - CBOW_Fox :  0.99853957\n",
      "Cosine similarity between 'man' and 'woman' - CBOW_NYT :  0.9875059\n"
     ]
    }
   ],
   "source": [
    "print(\"Cosine similarity between 'man' \" + \"and 'woman' - CBOW_Fox : \",\n",
    "(model_cbow_Fox.wv.similarity('man', 'woman')))\n",
    "print(\"Cosine similarity between 'man' \" + \"and 'woman' - CBOW_NYT : \",\n",
    "(model_cbow_NYT.wv.similarity('man', 'woman')))"
   ]
  },
  {
   "cell_type": "code",
   "execution_count": 34,
   "id": "f775715d",
   "metadata": {},
   "outputs": [
    {
     "name": "stdout",
     "output_type": "stream",
     "text": [
      "Cosine similarity between 'man' and 'military' - CBOW_Fox :  0.9915654\n",
      "Cosine similarity between 'man' and 'military' - CBOW_NYT :  0.9915117\n"
     ]
    }
   ],
   "source": [
    "print(\"Cosine similarity between 'man' \" + \"and 'military' - CBOW_Fox : \",\n",
    "(model_cbow_Fox.wv.similarity('man', 'military')))\n",
    "print(\"Cosine similarity between 'man' \" + \"and 'military' - CBOW_NYT : \",\n",
    "(model_cbow_NYT.wv.similarity('man', 'military')))"
   ]
  }
 ],
 "metadata": {
  "kernelspec": {
   "display_name": "Python 3 (ipykernel)",
   "language": "python",
   "name": "python3"
  },
  "language_info": {
   "codemirror_mode": {
    "name": "ipython",
    "version": 3
   },
   "file_extension": ".py",
   "mimetype": "text/x-python",
   "name": "python",
   "nbconvert_exporter": "python",
   "pygments_lexer": "ipython3",
   "version": "3.8.13"
  }
 },
 "nbformat": 4,
 "nbformat_minor": 5
}
